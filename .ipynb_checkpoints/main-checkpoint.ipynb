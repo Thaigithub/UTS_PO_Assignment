{
 "cells": [
  {
   "cell_type": "markdown",
   "id": "0dda49cc",
   "metadata": {},
   "source": [
    "# Import package\n"
   ]
  },
  {
   "cell_type": "code",
   "execution_count": 30,
   "id": "b5a7de21",
   "metadata": {},
   "outputs": [],
   "source": [
    "import requests\n",
    "import numpy as np\n",
    "import pandas as pd\n",
    "import json\n",
    "import matplotlib.pyplot as plt\n",
    "import autograd.numpy as anp\n",
    "from autograd import grad, jacobian\n",
    "from scipy.optimize import line_search, minimize\n",
    "import datetime\n",
    "from typing import List\n",
    "\n",
    "# import algorithm \n",
    "%run ./Note.ipynb"
   ]
  },
  {
   "cell_type": "markdown",
   "id": "c3448f32",
   "metadata": {},
   "source": [
    "# Data import and processing\n"
   ]
  },
  {
   "cell_type": "code",
   "execution_count": 2,
   "id": "9f98c5d9",
   "metadata": {},
   "outputs": [
    {
     "data": {
      "text/html": [
       "<div>\n",
       "<style scoped>\n",
       "    .dataframe tbody tr th:only-of-type {\n",
       "        vertical-align: middle;\n",
       "    }\n",
       "\n",
       "    .dataframe tbody tr th {\n",
       "        vertical-align: top;\n",
       "    }\n",
       "\n",
       "    .dataframe thead th {\n",
       "        text-align: right;\n",
       "    }\n",
       "</style>\n",
       "<table border=\"1\" class=\"dataframe\">\n",
       "  <thead>\n",
       "    <tr style=\"text-align: right;\">\n",
       "      <th></th>\n",
       "      <th>maturity</th>\n",
       "      <th>couponPercent</th>\n",
       "      <th>priceBid</th>\n",
       "      <th>priceAsk</th>\n",
       "    </tr>\n",
       "  </thead>\n",
       "  <tbody>\n",
       "    <tr>\n",
       "      <th>10</th>\n",
       "      <td>2025-11-21</td>\n",
       "      <td>0.0025</td>\n",
       "      <td>98.21</td>\n",
       "      <td>99.90</td>\n",
       "    </tr>\n",
       "    <tr>\n",
       "      <th>1</th>\n",
       "      <td>2026-04-21</td>\n",
       "      <td>0.0425</td>\n",
       "      <td>100.80</td>\n",
       "      <td>103.00</td>\n",
       "    </tr>\n",
       "    <tr>\n",
       "      <th>2</th>\n",
       "      <td>2027-04-21</td>\n",
       "      <td>0.0475</td>\n",
       "      <td>103.00</td>\n",
       "      <td>104.90</td>\n",
       "    </tr>\n",
       "    <tr>\n",
       "      <th>11</th>\n",
       "      <td>2027-11-21</td>\n",
       "      <td>0.0275</td>\n",
       "      <td>97.00</td>\n",
       "      <td>100.07</td>\n",
       "    </tr>\n",
       "    <tr>\n",
       "      <th>6</th>\n",
       "      <td>2028-05-21</td>\n",
       "      <td>0.0225</td>\n",
       "      <td>97.84</td>\n",
       "      <td>98.10</td>\n",
       "    </tr>\n",
       "    <tr>\n",
       "      <th>3</th>\n",
       "      <td>2029-04-21</td>\n",
       "      <td>0.0325</td>\n",
       "      <td>99.40</td>\n",
       "      <td>99.82</td>\n",
       "    </tr>\n",
       "    <tr>\n",
       "      <th>4</th>\n",
       "      <td>2033-04-21</td>\n",
       "      <td>0.0450</td>\n",
       "      <td>103.50</td>\n",
       "      <td>104.48</td>\n",
       "    </tr>\n",
       "    <tr>\n",
       "      <th>5</th>\n",
       "      <td>2037-04-21</td>\n",
       "      <td>0.0375</td>\n",
       "      <td>94.10</td>\n",
       "      <td>97.00</td>\n",
       "    </tr>\n",
       "    <tr>\n",
       "      <th>8</th>\n",
       "      <td>2039-06-21</td>\n",
       "      <td>0.0325</td>\n",
       "      <td>86.50</td>\n",
       "      <td>92.40</td>\n",
       "    </tr>\n",
       "    <tr>\n",
       "      <th>7</th>\n",
       "      <td>2041-05-21</td>\n",
       "      <td>0.0275</td>\n",
       "      <td>79.11</td>\n",
       "      <td>84.19</td>\n",
       "    </tr>\n",
       "    <tr>\n",
       "      <th>0</th>\n",
       "      <td>2047-03-21</td>\n",
       "      <td>0.0300</td>\n",
       "      <td>75.50</td>\n",
       "      <td>82.00</td>\n",
       "    </tr>\n",
       "    <tr>\n",
       "      <th>9</th>\n",
       "      <td>2054-06-21</td>\n",
       "      <td>0.0475</td>\n",
       "      <td>98.80</td>\n",
       "      <td>101.79</td>\n",
       "    </tr>\n",
       "  </tbody>\n",
       "</table>\n",
       "</div>"
      ],
      "text/plain": [
       "     maturity  couponPercent  priceBid  priceAsk\n",
       "10 2025-11-21         0.0025     98.21     99.90\n",
       "1  2026-04-21         0.0425    100.80    103.00\n",
       "2  2027-04-21         0.0475    103.00    104.90\n",
       "11 2027-11-21         0.0275     97.00    100.07\n",
       "6  2028-05-21         0.0225     97.84     98.10\n",
       "3  2029-04-21         0.0325     99.40     99.82\n",
       "4  2033-04-21         0.0450    103.50    104.48\n",
       "5  2037-04-21         0.0375     94.10     97.00\n",
       "8  2039-06-21         0.0325     86.50     92.40\n",
       "7  2041-05-21         0.0275     79.11     84.19\n",
       "0  2047-03-21         0.0300     75.50     82.00\n",
       "9  2054-06-21         0.0475     98.80    101.79"
      ]
     },
     "execution_count": 2,
     "metadata": {},
     "output_type": "execute_result"
    }
   ],
   "source": [
    "settledate = pd.to_datetime(datetime.date.today())\n",
    "bonds = pd.DataFrame(\n",
    "    json.loads(\n",
    "        requests.get(\n",
    "            \"https://asx.api.markitdigital.com/asx-research/1.0/bonds/government/exchange-traded?height=179&width=690\"\n",
    "        ).content\n",
    "    )[\"data\"][\"items\"]\n",
    ")\n",
    "bonds[\"maturity\"] = bonds[\"securityDescription\"].str.extract(r\"(\\d{2}-\\d{2}-\\d{2})\")[0]\n",
    "bonds[\"maturity\"] = pd.to_datetime(bonds[\"maturity\"], format=\"%d-%m-%y\")\n",
    "bonds = bonds[[\"maturity\", \"couponPercent\", \"priceBid\", \"priceAsk\"]]\n",
    "bonds[\"couponPercent\"] = bonds[\"couponPercent\"].astype(float) / 100\n",
    "bonds.dropna(inplace=True)\n",
    "bonds.reset_index(drop=True, inplace=True)\n",
    "bonds.sort_values(\"maturity\", inplace=True)\n",
    "bonds"
   ]
  },
  {
   "cell_type": "markdown",
   "id": "d1df5b95",
   "metadata": {},
   "source": [
    "# Support function\n"
   ]
  },
  {
   "cell_type": "code",
   "execution_count": 3,
   "id": "3208b1a3",
   "metadata": {},
   "outputs": [],
   "source": [
    "def year_transform(date: pd.Timestamp) -> float:\n",
    "    \"\"\"Transform date to actual year\"\"\"\n",
    "    if date == settledate:\n",
    "        return 0\n",
    "    years = date.year - settledate.year\n",
    "    check_date = pd.Timestamp(\n",
    "        year=date.year,\n",
    "        month=settledate.month,\n",
    "        day=settledate.day,\n",
    "    )\n",
    "    years += (date - check_date).days / abs(\n",
    "        (\n",
    "            check_date\n",
    "            + pd.DateOffset(years=np.sign((date - check_date).days))\n",
    "            - check_date\n",
    "        ).days\n",
    "    )\n",
    "    return years\n",
    "\n",
    "\n",
    "def coupon_date_generate(maturity: pd.Timestamp) -> np.ndarray:\n",
    "    \"\"\"Generate coupon dates\"\"\"\n",
    "    coupon_dates = [maturity]\n",
    "    while maturity - pd.DateOffset(months=6) > settledate:\n",
    "        maturity -= pd.DateOffset(months=6)\n",
    "        coupon_dates.append(maturity)\n",
    "    return np.array(list(map(year_transform, coupon_dates[::-1])))"
   ]
  },
  {
   "cell_type": "markdown",
   "id": "8337edd4",
   "metadata": {},
   "source": [
    "# Discount factor formula\n"
   ]
  },
  {
   "cell_type": "code",
   "execution_count": 4,
   "id": "acfe22bd",
   "metadata": {},
   "outputs": [],
   "source": [
    "def discount_factor(params: np.ndarray, t: np.ndarray) -> np.ndarray:\n",
    "    \"\"\"Calculate discount factor\"\"\"\n",
    "    f0, f1, f2, gamma = params\n",
    "    return np.exp(\n",
    "        -(\n",
    "            f0 * t\n",
    "            + f1 * (gamma - np.exp(-t / gamma) * gamma)\n",
    "            + f2 * (gamma - np.exp(-t / gamma) * (t + gamma))\n",
    "        )\n",
    "    )"
   ]
  },
  {
   "cell_type": "markdown",
   "id": "9ab8ba89",
   "metadata": {},
   "source": [
    "# Bond pricing formula"
   ]
  },
  {
   "cell_type": "code",
   "execution_count": 5,
   "id": "bd7da04b",
   "metadata": {},
   "outputs": [],
   "source": [
    "def bond_valuation(params: np.ndarray, maturity: pd.Timestamp, coupon: float) -> float:\n",
    "    \"\"\"Calculate bond valuation\"\"\"\n",
    "    t = coupon_date_generate(maturity)\n",
    "    cf = np.ones_like(t) * coupon / 2\n",
    "    cf[-1] += 1\n",
    "    return 100 * np.sum(cf * discount_factor(params, t))"
   ]
  },
  {
   "cell_type": "markdown",
   "id": "6d9180b9",
   "metadata": {},
   "source": [
    "# Loss function"
   ]
  },
  {
   "cell_type": "code",
   "execution_count": 6,
   "id": "f676adae",
   "metadata": {},
   "outputs": [],
   "source": [
    "def loss_function(\n",
    "    params: np.ndarray, maturity: pd.Timestamp, coupon: float, bid: float, ask: float\n",
    ") -> float:\n",
    "\n",
    "    \"\"\"Objective function for optimization\"\"\"\n",
    "\n",
    "    bond_price = bond_valuation(params, maturity, coupon)\n",
    "\n",
    "    return (max(0, bond_price - ask) / ask) ** 2 + (max(0, bid - bond_price) / bid) ** 2"
   ]
  },
  {
   "cell_type": "markdown",
   "id": "46ea96e3",
   "metadata": {},
   "source": [
    "# Discount factor curve"
   ]
  },
  {
   "cell_type": "code",
   "execution_count": 7,
   "id": "90ba1fdd",
   "metadata": {},
   "outputs": [],
   "source": [
    "def plot(params: List[float]):\n",
    "    t = np.linspace(0, 30, 100000)\n",
    "    dfs = discount_factor(params, t)\n",
    "    plt.figure(figsize=(15, 6))\n",
    "    plt.plot(t, dfs)\n",
    "    plt.title(\"Discount Factor Curve\")\n",
    "    plt.xlabel(\"Years\")\n",
    "    plt.ylabel(\"Discount Factor\")\n",
    "    plt.grid()\n",
    "    plt.show()"
   ]
  },
  {
   "cell_type": "markdown",
   "id": "8c72333d",
   "metadata": {},
   "source": [
    "# Testing with package optimizer"
   ]
  },
  {
   "cell_type": "code",
   "execution_count": 8,
   "id": "679bbe5d",
   "metadata": {},
   "outputs": [],
   "source": [
    "def target(params: np.ndarray) -> float:\n",
    "    \"\"\"Target function to be minimized\"\"\"\n",
    "    return np.sum(\n",
    "        [\n",
    "            loss_function(\n",
    "                params,\n",
    "                row[\"maturity\"],\n",
    "                row[\"couponPercent\"],\n",
    "                row[\"priceBid\"],\n",
    "                row[\"priceAsk\"],\n",
    "            )\n",
    "            for _, row in bonds.iterrows()\n",
    "        ]\n",
    "    )\n",
    "\n",
    "\n",
    "params = minimize(\n",
    "    target,\n",
    "    np.array([0.03, 0.03, 0.03, 1]),\n",
    "    method=\"L-BFGS-B\",\n",
    ")"
   ]
  },
  {
   "cell_type": "code",
   "execution_count": 9,
   "id": "f618fba6",
   "metadata": {},
   "outputs": [
    {
     "data": {
      "text/plain": [
       "  message: CONVERGENCE: NORM_OF_PROJECTED_GRADIENT_<=_PGTOL\n",
       "  success: True\n",
       "   status: 0\n",
       "      fun: 0.0\n",
       "        x: [ 5.272e-02 -1.175e-02 -5.018e-02  1.685e+00]\n",
       "      nit: 43\n",
       "      jac: [ 0.000e+00  0.000e+00  0.000e+00  0.000e+00]\n",
       "     nfev: 240\n",
       "     njev: 48\n",
       " hess_inv: <4x4 LbfgsInvHessProduct with dtype=float64>"
      ]
     },
     "execution_count": 9,
     "metadata": {},
     "output_type": "execute_result"
    }
   ],
   "source": [
    "params"
   ]
  },
  {
   "cell_type": "code",
   "execution_count": 10,
   "id": "7b9b0b1b",
   "metadata": {},
   "outputs": [
    {
     "data": {
      "image/png": "[encoded data removed]",
      "text/plain": [
       "<Figure size 1500x600 with 1 Axes>"
      ]
     },
     "metadata": {},
     "output_type": "display_data"
    }
   ],
   "source": [
    "plot(params.x)"
   ]
  },
  {
   "cell_type": "code",
   "execution_count": 11,
   "id": "0f8cb71d-a834-4f62-aeaa-d57c973d40ae",
   "metadata": {},
   "outputs": [],
   "source": [
    "# 2) rebuild a tiny wrapper of your target that uses anp instead of np\n",
    "def target_ag(params):\n",
    "    # `bonds` is still a pandas DataFrame of market data,\n",
    "    # but inside here we only call anp routines.\n",
    "    return np.sum(\n",
    "        [\n",
    "            loss_function(\n",
    "                params,\n",
    "                row[\"maturity\"],\n",
    "                row[\"couponPercent\"],\n",
    "                row[\"priceBid\"],\n",
    "                row[\"priceAsk\"],\n",
    "            )\n",
    "            for _, row in bonds.iterrows()\n",
    "        ]\n",
    "    )\n",
    "# 3) take the gradient\n",
    "jac_ag = grad(target_ag)\n",
    "\n",
    "# 4) pick your starting guess x0 and initial H matrix\n",
    "x0 = anp.array([0.03, 0.03, 0.03, 1.0])      # β₀, β₁, β₂, τ\n",
    "H0 = anp.eye(len(x0))                        # identity inverse‐Hessian"
   ]
  },
  {
   "cell_type": "markdown",
   "id": "bd027f48-5515-441b-81e0-d8471eae3680",
   "metadata": {},
   "source": [
    "# Fletcher-Reeves Optimization method"
   ]
  },
  {
   "cell_type": "code",
   "execution_count": 25,
   "id": "0d8dc324-ba05-4c84-87fc-eb76cf04b723",
   "metadata": {},
   "outputs": [
    {
     "name": "stdout",
     "output_type": "stream",
     "text": [
      "Fletcher-Reeves finished at  message: Function change below tolerance\n",
      " success: True\n",
      "  status: 0\n",
      "     fun: 0.00012423718599201232\n",
      "       x: [ 5.159e-02  2.025e-02 -1.033e-01  1.012e+00]\n",
      "     nit: 32\n",
      "    nfev: 327\n",
      "    njev: 65\n"
     ]
    }
   ],
   "source": [
    "res = fletcher_reeves(\n",
    "    fun=target_ag,\n",
    "    x0=x0,\n",
    "    jac=jac_ag)\n",
    "print(\"Fletcher-Reeves finished at\", res)"
   ]
  },
  {
   "cell_type": "markdown",
   "id": "012a57c2-225a-4320-a364-18823067c777",
   "metadata": {},
   "source": [
    "# DFP Optimization method"
   ]
  },
  {
   "cell_type": "code",
   "execution_count": 29,
   "id": "aa0f94ff-b398-4414-936e-815fe6b2d69b",
   "metadata": {},
   "outputs": [
    {
     "name": "stdout",
     "output_type": "stream",
     "text": [
      "DFP finished at  message: Gradient norm below tolerance\n",
      " success: True\n",
      "  status: 0\n",
      "     fun: 0.0\n",
      "       x: [ 6.196e-02 -3.351e-02 -1.917e-02  5.286e+00]\n",
      "     nit: 74\n",
      "    nfev: 178\n",
      "    njev: 161\n"
     ]
    },
    {
     "name": "stderr",
     "output_type": "stream",
     "text": [
      "/opt/conda/lib/python3.11/site-packages/autograd/tracer.py:14: UserWarning: Output seems independent of input.\n",
      "  warnings.warn(\"Output seems independent of input.\")\n",
      "/opt/conda/lib/python3.11/site-packages/autograd/tracer.py:14: UserWarning: Output seems independent of input.\n",
      "  warnings.warn(\"Output seems independent of input.\")\n"
     ]
    }
   ],
   "source": [
    "res = dfp(\n",
    "    fun=target_ag,\n",
    "    x0=x0,\n",
    "    jac=jac_ag,\n",
    "    H_k=H0,\n",
    "    maxiter=200,\n",
    "    logs=False\n",
    ")\n",
    "print(\"DFP finished at\", res)"
   ]
  },
  {
   "cell_type": "code",
   "execution_count": null,
   "id": "5c36aed6-3137-4428-a001-c939f58748ec",
   "metadata": {},
   "outputs": [],
   "source": []
  }
 ],
 "metadata": {
  "kernelspec": {
   "display_name": "Python 3 (ipykernel)",
   "language": "python",
   "name": "python3"
  },
  "language_info": {
   "codemirror_mode": {
    "name": "ipython",
    "version": 3
   },
   "file_extension": ".py",
   "mimetype": "text/x-python",
   "name": "python",
   "nbconvert_exporter": "python",
   "pygments_lexer": "ipython3",
   "version": "3.11.6"
  }
 },
 "nbformat": 4,
 "nbformat_minor": 5
}
