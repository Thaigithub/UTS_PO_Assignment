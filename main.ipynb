{
 "cells": [
  {
   "cell_type": "markdown",
   "id": "0dda49cc",
   "metadata": {},
   "source": [
    "# Import package\n"
   ]
  },
  {
   "cell_type": "code",
   "execution_count": 1,
   "id": "b5a7de21",
   "metadata": {},
   "outputs": [],
   "source": [
    "import requests\n",
    "import autograd.numpy as np\n",
    "import pandas as pd\n",
    "import json\n",
    "import matplotlib.pyplot as plt\n",
    "from autograd import grad, jacobian\n",
    "from scipy.optimize import minimize\n",
    "import datetime\n",
    "from typing import List\n",
    "from numba import njit\n",
    "import warnings\n",
    "import numpy.linalg as la"
   ]
  },
  {
   "cell_type": "markdown",
   "id": "c3448f32",
   "metadata": {},
   "source": [
    "# Data import and processing\n"
   ]
  },
  {
   "cell_type": "markdown",
   "id": "f9eecdaf",
   "metadata": {},
   "source": [
    "## Online"
   ]
  },
  {
   "cell_type": "code",
   "execution_count": 2,
   "id": "9f98c5d9",
   "metadata": {},
   "outputs": [
    {
     "data": {
      "application/vnd.microsoft.datawrangler.viewer.v0+json": {
       "columns": [
        {
         "name": "index",
         "rawType": "int64",
         "type": "integer"
        },
        {
         "name": "maturity",
         "rawType": "datetime64[ns]",
         "type": "datetime"
        },
        {
         "name": "couponPercent",
         "rawType": "float64",
         "type": "float"
        },
        {
         "name": "priceBid",
         "rawType": "float64",
         "type": "float"
        },
        {
         "name": "priceAsk",
         "rawType": "float64",
         "type": "float"
        }
       ],
       "conversionMethod": "pd.DataFrame",
       "ref": "5d1bce77-3cde-46e7-8ec4-943cff891aba",
       "rows": [
        [
         "0",
         "2025-11-21 00:00:00",
         "0.0025",
         "98.1",
         "99.95"
        ],
        [
         "1",
         "2026-04-21 00:00:00",
         "0.0425",
         "101.0",
         "103.0"
        ],
        [
         "2",
         "2027-04-21 00:00:00",
         "0.0475",
         "102.8",
         "103.32"
        ],
        [
         "3",
         "2027-11-21 00:00:00",
         "0.0275",
         "97.4",
         "97.97"
        ],
        [
         "4",
         "2028-05-21 00:00:00",
         "0.0225",
         "96.0",
         "96.37"
        ],
        [
         "5",
         "2029-04-21 00:00:00",
         "0.0325",
         "97.0",
         "99.82"
        ],
        [
         "6",
         "2033-04-21 00:00:00",
         "0.045",
         "101.5",
         "104.49"
        ],
        [
         "7",
         "2034-12-21 00:00:00",
         "0.035",
         "92.7",
         "96.83"
        ],
        [
         "8",
         "2037-04-21 00:00:00",
         "0.0375",
         "93.0",
         "94.8"
        ],
        [
         "9",
         "2039-06-21 00:00:00",
         "0.0325",
         "85.75",
         "92.4"
        ],
        [
         "10",
         "2047-03-21 00:00:00",
         "0.03",
         "74.5",
         "78.0"
        ],
        [
         "11",
         "2051-06-21 00:00:00",
         "0.0175",
         "52.63",
         "55.0"
        ],
        [
         "12",
         "2054-06-21 00:00:00",
         "0.0475",
         "97.501",
         "98.5"
        ]
       ],
       "shape": {
        "columns": 4,
        "rows": 13
       }
      },
      "text/html": [
       "<div>\n",
       "<style scoped>\n",
       "    .dataframe tbody tr th:only-of-type {\n",
       "        vertical-align: middle;\n",
       "    }\n",
       "\n",
       "    .dataframe tbody tr th {\n",
       "        vertical-align: top;\n",
       "    }\n",
       "\n",
       "    .dataframe thead th {\n",
       "        text-align: right;\n",
       "    }\n",
       "</style>\n",
       "<table border=\"1\" class=\"dataframe\">\n",
       "  <thead>\n",
       "    <tr style=\"text-align: right;\">\n",
       "      <th></th>\n",
       "      <th>maturity</th>\n",
       "      <th>couponPercent</th>\n",
       "      <th>priceBid</th>\n",
       "      <th>priceAsk</th>\n",
       "    </tr>\n",
       "  </thead>\n",
       "  <tbody>\n",
       "    <tr>\n",
       "      <th>0</th>\n",
       "      <td>2025-11-21</td>\n",
       "      <td>0.0025</td>\n",
       "      <td>98.100</td>\n",
       "      <td>99.95</td>\n",
       "    </tr>\n",
       "    <tr>\n",
       "      <th>1</th>\n",
       "      <td>2026-04-21</td>\n",
       "      <td>0.0425</td>\n",
       "      <td>101.000</td>\n",
       "      <td>103.00</td>\n",
       "    </tr>\n",
       "    <tr>\n",
       "      <th>2</th>\n",
       "      <td>2027-04-21</td>\n",
       "      <td>0.0475</td>\n",
       "      <td>102.800</td>\n",
       "      <td>103.32</td>\n",
       "    </tr>\n",
       "    <tr>\n",
       "      <th>3</th>\n",
       "      <td>2027-11-21</td>\n",
       "      <td>0.0275</td>\n",
       "      <td>97.400</td>\n",
       "      <td>97.97</td>\n",
       "    </tr>\n",
       "    <tr>\n",
       "      <th>4</th>\n",
       "      <td>2028-05-21</td>\n",
       "      <td>0.0225</td>\n",
       "      <td>96.000</td>\n",
       "      <td>96.37</td>\n",
       "    </tr>\n",
       "    <tr>\n",
       "      <th>5</th>\n",
       "      <td>2029-04-21</td>\n",
       "      <td>0.0325</td>\n",
       "      <td>97.000</td>\n",
       "      <td>99.82</td>\n",
       "    </tr>\n",
       "    <tr>\n",
       "      <th>6</th>\n",
       "      <td>2033-04-21</td>\n",
       "      <td>0.0450</td>\n",
       "      <td>101.500</td>\n",
       "      <td>104.49</td>\n",
       "    </tr>\n",
       "    <tr>\n",
       "      <th>7</th>\n",
       "      <td>2034-12-21</td>\n",
       "      <td>0.0350</td>\n",
       "      <td>92.700</td>\n",
       "      <td>96.83</td>\n",
       "    </tr>\n",
       "    <tr>\n",
       "      <th>8</th>\n",
       "      <td>2037-04-21</td>\n",
       "      <td>0.0375</td>\n",
       "      <td>93.000</td>\n",
       "      <td>94.80</td>\n",
       "    </tr>\n",
       "    <tr>\n",
       "      <th>9</th>\n",
       "      <td>2039-06-21</td>\n",
       "      <td>0.0325</td>\n",
       "      <td>85.750</td>\n",
       "      <td>92.40</td>\n",
       "    </tr>\n",
       "    <tr>\n",
       "      <th>10</th>\n",
       "      <td>2047-03-21</td>\n",
       "      <td>0.0300</td>\n",
       "      <td>74.500</td>\n",
       "      <td>78.00</td>\n",
       "    </tr>\n",
       "    <tr>\n",
       "      <th>11</th>\n",
       "      <td>2051-06-21</td>\n",
       "      <td>0.0175</td>\n",
       "      <td>52.630</td>\n",
       "      <td>55.00</td>\n",
       "    </tr>\n",
       "    <tr>\n",
       "      <th>12</th>\n",
       "      <td>2054-06-21</td>\n",
       "      <td>0.0475</td>\n",
       "      <td>97.501</td>\n",
       "      <td>98.50</td>\n",
       "    </tr>\n",
       "  </tbody>\n",
       "</table>\n",
       "</div>"
      ],
      "text/plain": [
       "     maturity  couponPercent  priceBid  priceAsk\n",
       "0  2025-11-21         0.0025    98.100     99.95\n",
       "1  2026-04-21         0.0425   101.000    103.00\n",
       "2  2027-04-21         0.0475   102.800    103.32\n",
       "3  2027-11-21         0.0275    97.400     97.97\n",
       "4  2028-05-21         0.0225    96.000     96.37\n",
       "5  2029-04-21         0.0325    97.000     99.82\n",
       "6  2033-04-21         0.0450   101.500    104.49\n",
       "7  2034-12-21         0.0350    92.700     96.83\n",
       "8  2037-04-21         0.0375    93.000     94.80\n",
       "9  2039-06-21         0.0325    85.750     92.40\n",
       "10 2047-03-21         0.0300    74.500     78.00\n",
       "11 2051-06-21         0.0175    52.630     55.00\n",
       "12 2054-06-21         0.0475    97.501     98.50"
      ]
     },
     "execution_count": 2,
     "metadata": {},
     "output_type": "execute_result"
    }
   ],
   "source": [
    "settledate = pd.to_datetime(datetime.date.today())\n",
    "bonds = pd.DataFrame(\n",
    "    json.loads(\n",
    "        requests.get(\n",
    "            \"https://asx.api.markitdigital.com/asx-research/1.0/bonds/government/exchange-traded?height=179&width=690\"\n",
    "        ).content\n",
    "    )[\"data\"][\"items\"]\n",
    ")\n",
    "bonds[\"maturity\"] = bonds[\"securityDescription\"].str.extract(r\"(\\d{2}-\\d{2}-\\d{2})\")[0]\n",
    "bonds[\"maturity\"] = pd.to_datetime(bonds[\"maturity\"], format=\"%d-%m-%y\")\n",
    "bonds = bonds[[\"maturity\", \"couponPercent\", \"priceBid\", \"priceAsk\"]]\n",
    "bonds[\"couponPercent\"] = bonds[\"couponPercent\"].astype(float) / 100\n",
    "bonds.dropna(inplace=True)\n",
    "bonds.sort_values(\"maturity\", inplace=True)\n",
    "bonds.reset_index(drop=True, inplace=True)\n",
    "bonds.to_csv(f\"bonds_{settledate.strftime('%Y%m%d')}.csv\", index=False)\n",
    "bonds"
   ]
  },
  {
   "cell_type": "markdown",
   "id": "5885abb8",
   "metadata": {},
   "source": [
    "## Offline"
   ]
  },
  {
   "cell_type": "code",
   "execution_count": 3,
   "id": "501eb0e4",
   "metadata": {},
   "outputs": [
    {
     "data": {
      "application/vnd.microsoft.datawrangler.viewer.v0+json": {
       "columns": [
        {
         "name": "index",
         "rawType": "int64",
         "type": "integer"
        },
        {
         "name": "maturity",
         "rawType": "datetime64[ns]",
         "type": "datetime"
        },
        {
         "name": "couponPercent",
         "rawType": "float64",
         "type": "float"
        },
        {
         "name": "priceBid",
         "rawType": "float64",
         "type": "float"
        },
        {
         "name": "priceAsk",
         "rawType": "float64",
         "type": "float"
        }
       ],
       "conversionMethod": "pd.DataFrame",
       "ref": "83e16834-69d4-42d6-83fa-644b12441ee8",
       "rows": [
        [
         "0",
         "2025-11-21 00:00:00",
         "0.0025",
         "98.0",
         "99.95"
        ],
        [
         "1",
         "2026-04-21 00:00:00",
         "0.0425",
         "100.81",
         "103.0"
        ],
        [
         "2",
         "2027-04-21 00:00:00",
         "0.0475",
         "102.1",
         "103.32"
        ],
        [
         "3",
         "2027-11-21 00:00:00",
         "0.0275",
         "97.5",
         "98.22"
        ],
        [
         "4",
         "2028-05-21 00:00:00",
         "0.0225",
         "96.0",
         "96.37"
        ],
        [
         "5",
         "2029-04-21 00:00:00",
         "0.0325",
         "97.0",
         "99.82"
        ],
        [
         "6",
         "2033-04-21 00:00:00",
         "0.045",
         "101.65",
         "103.5"
        ],
        [
         "7",
         "2034-12-21 00:00:00",
         "0.035",
         "92.7",
         "96.83"
        ],
        [
         "8",
         "2037-04-21 00:00:00",
         "0.0375",
         "93.0",
         "93.3"
        ],
        [
         "9",
         "2039-06-21 00:00:00",
         "0.0325",
         "85.75",
         "92.0"
        ],
        [
         "10",
         "2047-03-21 00:00:00",
         "0.03",
         "74.0",
         "78.0"
        ],
        [
         "11",
         "2051-06-21 00:00:00",
         "0.0175",
         "52.63",
         "56.0"
        ],
        [
         "12",
         "2054-06-21 00:00:00",
         "0.0475",
         "97.52",
         "98.2"
        ]
       ],
       "shape": {
        "columns": 4,
        "rows": 13
       }
      },
      "text/html": [
       "<div>\n",
       "<style scoped>\n",
       "    .dataframe tbody tr th:only-of-type {\n",
       "        vertical-align: middle;\n",
       "    }\n",
       "\n",
       "    .dataframe tbody tr th {\n",
       "        vertical-align: top;\n",
       "    }\n",
       "\n",
       "    .dataframe thead th {\n",
       "        text-align: right;\n",
       "    }\n",
       "</style>\n",
       "<table border=\"1\" class=\"dataframe\">\n",
       "  <thead>\n",
       "    <tr style=\"text-align: right;\">\n",
       "      <th></th>\n",
       "      <th>maturity</th>\n",
       "      <th>couponPercent</th>\n",
       "      <th>priceBid</th>\n",
       "      <th>priceAsk</th>\n",
       "    </tr>\n",
       "  </thead>\n",
       "  <tbody>\n",
       "    <tr>\n",
       "      <th>0</th>\n",
       "      <td>2025-11-21</td>\n",
       "      <td>0.0025</td>\n",
       "      <td>98.00</td>\n",
       "      <td>99.95</td>\n",
       "    </tr>\n",
       "    <tr>\n",
       "      <th>1</th>\n",
       "      <td>2026-04-21</td>\n",
       "      <td>0.0425</td>\n",
       "      <td>100.81</td>\n",
       "      <td>103.00</td>\n",
       "    </tr>\n",
       "    <tr>\n",
       "      <th>2</th>\n",
       "      <td>2027-04-21</td>\n",
       "      <td>0.0475</td>\n",
       "      <td>102.10</td>\n",
       "      <td>103.32</td>\n",
       "    </tr>\n",
       "    <tr>\n",
       "      <th>3</th>\n",
       "      <td>2027-11-21</td>\n",
       "      <td>0.0275</td>\n",
       "      <td>97.50</td>\n",
       "      <td>98.22</td>\n",
       "    </tr>\n",
       "    <tr>\n",
       "      <th>4</th>\n",
       "      <td>2028-05-21</td>\n",
       "      <td>0.0225</td>\n",
       "      <td>96.00</td>\n",
       "      <td>96.37</td>\n",
       "    </tr>\n",
       "    <tr>\n",
       "      <th>5</th>\n",
       "      <td>2029-04-21</td>\n",
       "      <td>0.0325</td>\n",
       "      <td>97.00</td>\n",
       "      <td>99.82</td>\n",
       "    </tr>\n",
       "    <tr>\n",
       "      <th>6</th>\n",
       "      <td>2033-04-21</td>\n",
       "      <td>0.0450</td>\n",
       "      <td>101.65</td>\n",
       "      <td>103.50</td>\n",
       "    </tr>\n",
       "    <tr>\n",
       "      <th>7</th>\n",
       "      <td>2034-12-21</td>\n",
       "      <td>0.0350</td>\n",
       "      <td>92.70</td>\n",
       "      <td>96.83</td>\n",
       "    </tr>\n",
       "    <tr>\n",
       "      <th>8</th>\n",
       "      <td>2037-04-21</td>\n",
       "      <td>0.0375</td>\n",
       "      <td>93.00</td>\n",
       "      <td>93.30</td>\n",
       "    </tr>\n",
       "    <tr>\n",
       "      <th>9</th>\n",
       "      <td>2039-06-21</td>\n",
       "      <td>0.0325</td>\n",
       "      <td>85.75</td>\n",
       "      <td>92.00</td>\n",
       "    </tr>\n",
       "    <tr>\n",
       "      <th>10</th>\n",
       "      <td>2047-03-21</td>\n",
       "      <td>0.0300</td>\n",
       "      <td>74.00</td>\n",
       "      <td>78.00</td>\n",
       "    </tr>\n",
       "    <tr>\n",
       "      <th>11</th>\n",
       "      <td>2051-06-21</td>\n",
       "      <td>0.0175</td>\n",
       "      <td>52.63</td>\n",
       "      <td>56.00</td>\n",
       "    </tr>\n",
       "    <tr>\n",
       "      <th>12</th>\n",
       "      <td>2054-06-21</td>\n",
       "      <td>0.0475</td>\n",
       "      <td>97.52</td>\n",
       "      <td>98.20</td>\n",
       "    </tr>\n",
       "  </tbody>\n",
       "</table>\n",
       "</div>"
      ],
      "text/plain": [
       "     maturity  couponPercent  priceBid  priceAsk\n",
       "0  2025-11-21         0.0025     98.00     99.95\n",
       "1  2026-04-21         0.0425    100.81    103.00\n",
       "2  2027-04-21         0.0475    102.10    103.32\n",
       "3  2027-11-21         0.0275     97.50     98.22\n",
       "4  2028-05-21         0.0225     96.00     96.37\n",
       "5  2029-04-21         0.0325     97.00     99.82\n",
       "6  2033-04-21         0.0450    101.65    103.50\n",
       "7  2034-12-21         0.0350     92.70     96.83\n",
       "8  2037-04-21         0.0375     93.00     93.30\n",
       "9  2039-06-21         0.0325     85.75     92.00\n",
       "10 2047-03-21         0.0300     74.00     78.00\n",
       "11 2051-06-21         0.0175     52.63     56.00\n",
       "12 2054-06-21         0.0475     97.52     98.20"
      ]
     },
     "execution_count": 3,
     "metadata": {},
     "output_type": "execute_result"
    }
   ],
   "source": [
    "settledate = pd.to_datetime(\"2025-05-18\")\n",
    "bonds = pd.read_csv(f\"bonds_{settledate.strftime('%Y%m%d')}.csv\")\n",
    "bonds[\"maturity\"] = pd.to_datetime(bonds[\"maturity\"])\n",
    "bonds"
   ]
  },
  {
   "cell_type": "markdown",
   "id": "d1df5b95",
   "metadata": {},
   "source": [
    "# Support function\n"
   ]
  },
  {
   "cell_type": "code",
   "execution_count": 4,
   "id": "3208b1a3",
   "metadata": {},
   "outputs": [],
   "source": [
    "def year_transform(date: pd.Timestamp) -> float:\n",
    "    \"\"\"Transform date to actual year\"\"\"\n",
    "    if date == settledate:\n",
    "        return 0\n",
    "    years = date.year - settledate.year\n",
    "    check_date = pd.Timestamp(\n",
    "        year=date.year,\n",
    "        month=settledate.month,\n",
    "        day=settledate.day,\n",
    "    )\n",
    "    years += (date - check_date).days / abs(\n",
    "        (\n",
    "            check_date\n",
    "            + pd.DateOffset(years=np.sign((date - check_date).days))\n",
    "            - check_date\n",
    "        ).days\n",
    "    )\n",
    "    return years\n",
    "\n",
    "\n",
    "def coupon_date_generate(maturity: pd.Timestamp) -> np.ndarray:\n",
    "    \"\"\"Generate coupon dates\"\"\"\n",
    "    coupon_dates = [maturity]\n",
    "    while maturity - pd.DateOffset(months=6) > settledate:\n",
    "        maturity -= pd.DateOffset(months=6)\n",
    "        coupon_dates.append(maturity)\n",
    "    return np.array(list(map(year_transform, coupon_dates[::-1])))"
   ]
  },
  {
   "cell_type": "markdown",
   "id": "a78b452b",
   "metadata": {},
   "source": [
    "# Discount factor curve\n"
   ]
  },
  {
   "cell_type": "code",
   "execution_count": 5,
   "id": "9da7c1f4",
   "metadata": {},
   "outputs": [],
   "source": [
    "def plot(params: np.ndarray, func: callable) -> None:\n",
    "    t = np.linspace(0, 30, 100000)\n",
    "    dfs = func(params, t)\n",
    "    plt.figure(figsize=(15, 6))\n",
    "    plt.plot(t, dfs)\n",
    "    plt.title(\"Discount Factor Curve\")\n",
    "    plt.xlabel(\"Years\")\n",
    "    plt.ylabel(\"Discount Factor\")\n",
    "    plt.grid()\n",
    "    plt.show()"
   ]
  },
  {
   "cell_type": "markdown",
   "id": "bcdf6660",
   "metadata": {},
   "source": [
    "# Basic function\n"
   ]
  },
  {
   "cell_type": "markdown",
   "id": "d0756149",
   "metadata": {},
   "source": [
    "## Discount factor function\n"
   ]
  },
  {
   "cell_type": "code",
   "execution_count": null,
   "id": "eeca4540",
   "metadata": {},
   "outputs": [],
   "source": [
    "# @njit(cache=True)\n",
    "def discount_factor(params: np.ndarray, t: np.ndarray) -> np.ndarray:\n",
    "    \"\"\"Calculate discount factor\"\"\"\n",
    "    f0, f1, f2, gamma = params\n",
    "    if gamma == 0:\n",
    "        return np.exp(-f0 * t)\n",
    "    if gamma < 0:\n",
    "        raise ValueError(\"Gamma must be positive\")\n",
    "    res = -(\n",
    "        f0 * t\n",
    "        + f1 * (gamma - np.exp(-t / gamma) * gamma)\n",
    "        + f2 * (gamma - np.exp(-t / gamma) * (t + gamma))\n",
    "    )\n",
    "    return np.exp(res)"
   ]
  },
  {
   "cell_type": "markdown",
   "id": "9ab8ba89",
   "metadata": {},
   "source": [
    "## Bond valuation function\n"
   ]
  },
  {
   "cell_type": "code",
   "execution_count": 7,
   "id": "bd7da04b",
   "metadata": {},
   "outputs": [],
   "source": [
    "# @njit(cache=True)\n",
    "def bond_valuation(params: np.ndarray, t: np.ndarray, coupon: float) -> float:\n",
    "    \"\"\"Calculate bond valuation\"\"\"\n",
    "    cf = np.ones_like(t) * coupon / 2\n",
    "    cf[-1] += 1\n",
    "    return 100 * np.sum(cf * discount_factor(params, t))"
   ]
  },
  {
   "cell_type": "markdown",
   "id": "6d9180b9",
   "metadata": {},
   "source": [
    "## Loss function component\n"
   ]
  },
  {
   "cell_type": "code",
   "execution_count": 8,
   "id": "f676adae",
   "metadata": {},
   "outputs": [],
   "source": [
    "# @njit(cache=True)\n",
    "def loss_function_component(\n",
    "    params: np.ndarray, t: np.ndarray, coupon: float, bid: float, ask: float\n",
    ") -> float:\n",
    "    \"\"\"Objective function for optimization\"\"\"\n",
    "    bond_price = bond_valuation(params, t, coupon)\n",
    "    if np.abs(bond_price) >= 1e154:\n",
    "        return np.inf\n",
    "    return (max(0, bond_price - ask) / ask) ** 2 + (max(0, bid - bond_price) / bid) ** 2"
   ]
  },
  {
   "cell_type": "markdown",
   "id": "cc5284ea",
   "metadata": {},
   "source": [
    "# Analytical\n"
   ]
  },
  {
   "cell_type": "markdown",
   "id": "03658c23",
   "metadata": {},
   "source": [
    "## Gradient function\n"
   ]
  },
  {
   "cell_type": "code",
   "execution_count": 9,
   "id": "40362a42",
   "metadata": {},
   "outputs": [],
   "source": [
    "# @njit(cache=True)\n",
    "def discount_factor_gradient_analytical(\n",
    "    params: np.ndarray, t: np.ndarray, element: int\n",
    ") -> np.ndarray:\n",
    "    \"\"\"Calculate gradient of discount factor\"\"\"\n",
    "    f0, f1, f2, gamma = params\n",
    "    if element == 0:\n",
    "        return -t * discount_factor(params, t)\n",
    "    elif element == 1:\n",
    "        return (-gamma + np.exp(-t / gamma) * gamma) * discount_factor(params, t)\n",
    "    elif element == 2:\n",
    "        return (-gamma + np.exp(-t / gamma) * (t + gamma)) * discount_factor(params, t)\n",
    "    else:\n",
    "        return (\n",
    "            -f1 * (1 - np.exp(-t / gamma) - t * np.exp(-t / gamma) / gamma)\n",
    "            - f2\n",
    "            * (\n",
    "                1\n",
    "                - np.exp(-t / gamma)\n",
    "                - t * np.exp(-t / gamma) * (t + gamma) / (gamma**2)\n",
    "            )\n",
    "        ) * discount_factor(params, t)\n",
    "\n",
    "\n",
    "# @njit(cache=True)\n",
    "def bond_valuation_gradient_analytical(\n",
    "    params: np.ndarray, t: np.ndarray, coupon: float, element: int\n",
    ") -> float:\n",
    "    \"\"\"Calculate gradient of bond valuation\"\"\"\n",
    "    cf = np.ones_like(t) * coupon / 2\n",
    "    cf[-1] += 1\n",
    "    return 100 * np.sum(cf * discount_factor_gradient_analytical(params, t, element))\n",
    "\n",
    "\n",
    "# @njit(cache=True)\n",
    "def loss_function_component_gradient_analytical(\n",
    "    params: np.ndarray,\n",
    "    t: np.ndarray,\n",
    "    coupon: float,\n",
    "    bid: float,\n",
    "    ask: float,\n",
    "    element: int,\n",
    ") -> float:\n",
    "    \"\"\"Calculate gradient of bond valuation\"\"\"\n",
    "    vj = bond_valuation(params, t, coupon)\n",
    "    if vj > ask:\n",
    "        return (2 * (vj - ask) / (ask**2)) * bond_valuation_gradient_analytical(\n",
    "            params, t, coupon, element\n",
    "        )\n",
    "    elif vj < bid:\n",
    "        return (2 * (vj - bid) / (bid**2)) * bond_valuation_gradient_analytical(\n",
    "            params, t, coupon, element\n",
    "        )\n",
    "    else:\n",
    "        return 0.0"
   ]
  },
  {
   "cell_type": "markdown",
   "id": "5e94ae6e",
   "metadata": {},
   "source": [
    "## Hessian Function\n"
   ]
  },
  {
   "cell_type": "code",
   "execution_count": 10,
   "id": "f759ed85",
   "metadata": {},
   "outputs": [],
   "source": [
    "# @njit(cache=True)\n",
    "def discount_factor_hessian_analytical(\n",
    "    params: np.ndarray, t: np.ndarray, elements: List[int]\n",
    ") -> np.ndarray:\n",
    "    \"\"\"Calculate hessian of discount factor\"\"\"\n",
    "    f0, f1, f2, gamma = params\n",
    "    sorted_elements = sorted(elements)\n",
    "    if sorted_elements == [0, 0]:\n",
    "        return t**2 * discount_factor(params, t)\n",
    "    elif sorted_elements == [0, 1]:\n",
    "        return -t * (-gamma + np.exp(-t / gamma) * gamma) * discount_factor(params, t)\n",
    "    elif sorted_elements == [0, 2]:\n",
    "        return (\n",
    "            -t\n",
    "            * (-gamma + np.exp(-t / gamma) * (t + gamma))\n",
    "            * discount_factor(params, t)\n",
    "        )\n",
    "    elif sorted_elements == [0, 3]:\n",
    "        return (\n",
    "            -t\n",
    "            * (\n",
    "                -f1 * (1 - np.exp(-t / gamma) - t * np.exp(-t / gamma) / gamma)\n",
    "                - f2\n",
    "                * (\n",
    "                    1\n",
    "                    - np.exp(-t / gamma)\n",
    "                    - t * np.exp(-t / gamma) * (t + gamma) / (gamma**2)\n",
    "                )\n",
    "            )\n",
    "            * discount_factor(params, t)\n",
    "        )\n",
    "    elif sorted_elements == [1, 1]:\n",
    "        return ((-gamma + np.exp(-t / gamma) * gamma) ** 2) * discount_factor(params, t)\n",
    "    elif sorted_elements == [1, 2]:\n",
    "        return (\n",
    "            (-gamma + np.exp(-t / gamma) * gamma)\n",
    "            * (-gamma + np.exp(-t / gamma) * (t + gamma))\n",
    "            * discount_factor(params, t)\n",
    "        )\n",
    "    elif sorted_elements == [1, 3]:\n",
    "        return (\n",
    "            (-1 + np.exp(-t / gamma) + np.exp(-t / gamma) * t / gamma) * (f1 + 1)\n",
    "            - f2\n",
    "            * (\n",
    "                1\n",
    "                - np.exp(-t / gamma)\n",
    "                - t * (t + gamma) * np.exp(-t / gamma) / (gamma**2)\n",
    "            )\n",
    "        ) * discount_factor(params, t)\n",
    "    elif sorted_elements == [2, 2]:\n",
    "        return ((-gamma + np.exp(-t / gamma) * (t + gamma)) ** 2) * discount_factor(\n",
    "            params, t\n",
    "        )\n",
    "    elif sorted_elements == [2, 3]:\n",
    "        return (\n",
    "            (-1 + np.exp(-t / gamma) + np.exp(-t / gamma) * t / gamma)\n",
    "            * (1 + f1 * (-gamma + np.exp(-t / gamma) * (t + gamma)))\n",
    "            - (-gamma + np.exp(-t / gamma) * (t + gamma))\n",
    "            * (\n",
    "                1\n",
    "                - np.exp(-t / gamma)\n",
    "                - np.exp(-t / gamma) * t * (t + gamma) / (gamma**2)\n",
    "            )\n",
    "            * f2\n",
    "        ) * discount_factor(params, t)\n",
    "    else:\n",
    "        return (\n",
    "            np.exp(-t / gamma) * (t**2) * f1 / (gamma**3)\n",
    "            - (\n",
    "                -2 * np.exp(-t / gamma) * t / (gamma**2)\n",
    "                - np.exp(-t / gamma) * (t**2) * (t + gamma) / (gamma**4)\n",
    "                + 2 * np.exp(-t / gamma) * t\n",
    "                + (t + gamma) / (gamma**3)\n",
    "            )\n",
    "            * f2\n",
    "            + (\n",
    "                f1 * (1 - np.exp(-t / gamma) - np.exp(-t / gamma) * t / gamma)\n",
    "                + f2\n",
    "                * (\n",
    "                    1\n",
    "                    - np.exp(-t / gamma)\n",
    "                    - np.exp(-t / gamma) * t * (t + gamma) / (gamma**2)\n",
    "                )\n",
    "            )\n",
    "            ** 2\n",
    "        ) * discount_factor(params, t)\n",
    "\n",
    "\n",
    "# @njit(cache=True)\n",
    "def bond_valuation_hessian_analytical(\n",
    "    params: np.ndarray, t: np.ndarray, coupon: float, elements: List[int]\n",
    ") -> float:\n",
    "    \"\"\"Calculate hessian of bond valuation\"\"\"\n",
    "    cf = np.ones_like(t) * coupon / 2\n",
    "    cf[-1] += 1\n",
    "    return 100 * np.sum(cf * discount_factor_hessian_analytical(params, t, elements))\n",
    "\n",
    "\n",
    "# @njit(cache=True)\n",
    "def loss_function_component_hessian_analytical(\n",
    "    params: np.ndarray,\n",
    "    t: np.ndarray,\n",
    "    coupon: float,\n",
    "    bid: float,\n",
    "    ask: float,\n",
    "    elements: List[int],\n",
    ") -> float:\n",
    "    \"\"\"Calculate hessian of loss component\"\"\"\n",
    "    vj = bond_valuation(params, t, coupon)\n",
    "    if vj > ask:\n",
    "        return (2 * (vj - ask) / (ask**2)) * bond_valuation_hessian_analytical(\n",
    "            params, t, coupon, elements\n",
    "        ) + (2 / (ask**2)) * bond_valuation_gradient_analytical(\n",
    "            params, t, coupon, elements[0]\n",
    "        ) * bond_valuation_gradient_analytical(\n",
    "            params, t, coupon, elements[1]\n",
    "        )\n",
    "    elif vj < bid:\n",
    "        return (2 * (vj - bid) / (bid**2)) * bond_valuation_hessian_analytical(\n",
    "            params, t, coupon, elements\n",
    "        ) + (2 / (bid**2)) * bond_valuation_gradient_analytical(\n",
    "            params, t, coupon, elements[0]\n",
    "        ) * bond_valuation_gradient_analytical(\n",
    "            params, t, coupon, elements[1]\n",
    "        )\n",
    "    else:\n",
    "        return 0.0"
   ]
  },
  {
   "cell_type": "markdown",
   "id": "e9b56dec",
   "metadata": {},
   "source": [
    "# Numerical\n"
   ]
  },
  {
   "cell_type": "markdown",
   "id": "017baa94",
   "metadata": {},
   "source": [
    "## Gradient function\n"
   ]
  },
  {
   "cell_type": "code",
   "execution_count": 11,
   "id": "a030ebd4",
   "metadata": {},
   "outputs": [],
   "source": [
    "# @njit(cache=True)\n",
    "def loss_function_component_gradient_numerical(\n",
    "    params: np.ndarray,\n",
    "    t: np.ndarray,\n",
    "    coupon: float,\n",
    "    bid: float,\n",
    "    ask: float,\n",
    "    element: int,\n",
    "    tolerance: float = 1e-15,\n",
    ") -> float:\n",
    "    \"\"\"Calculate gradient of bond valuation\"\"\"\n",
    "    param_forward = params.copy()\n",
    "    param_forward[element] += tolerance\n",
    "    param_backward = params.copy()\n",
    "    param_backward[element] -= tolerance\n",
    "    lj_forward = loss_function_component(param_forward, t, coupon, bid, ask)\n",
    "    lj_backward = loss_function_component(param_backward, t, coupon, bid, ask)\n",
    "    return (lj_forward - lj_backward) / (2 * tolerance)"
   ]
  },
  {
   "cell_type": "markdown",
   "id": "ed5c1805",
   "metadata": {},
   "source": [
    "## Hessian function\n"
   ]
  },
  {
   "cell_type": "code",
   "execution_count": 12,
   "id": "a1324b7a",
   "metadata": {},
   "outputs": [],
   "source": [
    "# @njit(cache=True)\n",
    "def loss_function_component_hessian_numerical(\n",
    "    params: np.ndarray,\n",
    "    t: np.ndarray,\n",
    "    coupon: float,\n",
    "    bid: float,\n",
    "    ask: float,\n",
    "    elements: List[int],\n",
    "    tolerance: float = 1e-15,\n",
    ") -> float:\n",
    "    \"\"\"Calculate hessian of loss component\"\"\"\n",
    "    new_elements = elements.copy()\n",
    "    elements = sorted(new_elements)\n",
    "    param_f_f = params.copy()\n",
    "    param_f_b = params.copy()\n",
    "    param_b_f = params.copy()\n",
    "    param_b_b = params.copy()\n",
    "    param_f_f[elements[0]] += tolerance\n",
    "    param_f_f[elements[1]] += tolerance\n",
    "    param_f_b[elements[0]] += tolerance\n",
    "    param_f_b[elements[1]] -= tolerance\n",
    "    param_b_f[elements[0]] -= tolerance\n",
    "    param_b_f[elements[1]] += tolerance\n",
    "    param_b_b[elements[0]] -= tolerance\n",
    "    param_b_b[elements[1]] -= tolerance\n",
    "    lj_f_f = loss_function_component(param_f_f, t, coupon, bid, ask)\n",
    "    lj_f_b = loss_function_component(param_f_b, t, coupon, bid, ask)\n",
    "    lj_b_f = loss_function_component(param_b_f, t, coupon, bid, ask)\n",
    "    lj_b_b = loss_function_component(param_b_b, t, coupon, bid, ask)\n",
    "    return (lj_f_f - lj_f_b - lj_b_f + lj_b_b) / (4 * tolerance**2)"
   ]
  },
  {
   "cell_type": "markdown",
   "id": "ad90996f",
   "metadata": {},
   "source": [
    "# Optimizing function\n"
   ]
  },
  {
   "cell_type": "code",
   "execution_count": 13,
   "id": "b73a8b0c",
   "metadata": {},
   "outputs": [],
   "source": [
    "def target(params: np.ndarray) -> float:\n",
    "    \"\"\"Target function to be minimized\"\"\"\n",
    "    return np.sum(\n",
    "        [\n",
    "            loss_function_component(\n",
    "                params,\n",
    "                coupon_date_generate(row[\"maturity\"]),\n",
    "                row[\"couponPercent\"],\n",
    "                row[\"priceBid\"],\n",
    "                row[\"priceAsk\"],\n",
    "            )\n",
    "            for _, row in bonds.iterrows()\n",
    "        ]\n",
    "    )"
   ]
  },
  {
   "cell_type": "markdown",
   "id": "d7e641e1",
   "metadata": {},
   "source": [
    "## Library method for components\n"
   ]
  },
  {
   "cell_type": "code",
   "execution_count": 14,
   "id": "fa27e3fa",
   "metadata": {},
   "outputs": [],
   "source": [
    "jac_library = grad(target)\n",
    "hess_library = jacobian(grad(target))"
   ]
  },
  {
   "cell_type": "markdown",
   "id": "c35e4f3b",
   "metadata": {},
   "source": [
    "## Analytical method for components\n"
   ]
  },
  {
   "cell_type": "code",
   "execution_count": 15,
   "id": "8029917f",
   "metadata": {},
   "outputs": [],
   "source": [
    "def jac_analytical(params: np.ndarray) -> np.ndarray:\n",
    "    \"\"\"Calculate jacobian using analytical method\"\"\"\n",
    "    return np.array(\n",
    "        [\n",
    "            np.sum(\n",
    "                [\n",
    "                    loss_function_component_gradient_analytical(\n",
    "                        params,\n",
    "                        coupon_date_generate(row[\"maturity\"]),\n",
    "                        row[\"couponPercent\"],\n",
    "                        row[\"priceBid\"],\n",
    "                        row[\"priceAsk\"],\n",
    "                        element,\n",
    "                    )\n",
    "                    for _, row in bonds.iterrows()\n",
    "                ]\n",
    "            )\n",
    "            for element in range(len(params))\n",
    "        ]\n",
    "    )\n",
    "\n",
    "\n",
    "def hess_analytical(params: np.ndarray) -> np.ndarray:\n",
    "    \"\"\"Calculate hessian using analytical method\"\"\"\n",
    "    return np.array(\n",
    "        [\n",
    "            np.sum(\n",
    "                [\n",
    "                    loss_function_component_hessian_analytical(\n",
    "                        params,\n",
    "                        coupon_date_generate(row[\"maturity\"]),\n",
    "                        row[\"couponPercent\"],\n",
    "                        row[\"priceBid\"],\n",
    "                        row[\"priceAsk\"],\n",
    "                        [element, element2],\n",
    "                    )\n",
    "                    for _, row in bonds.iterrows()\n",
    "                ]\n",
    "            )\n",
    "            for element in range(len(params))\n",
    "            for element2 in range(len(params))\n",
    "        ]\n",
    "    ).reshape(len(params), len(params))"
   ]
  },
  {
   "cell_type": "markdown",
   "id": "bda21576",
   "metadata": {},
   "source": [
    "## Numerical method for components\n"
   ]
  },
  {
   "cell_type": "code",
   "execution_count": 16,
   "id": "9645ace5",
   "metadata": {},
   "outputs": [],
   "source": [
    "def jac_numerical(params: np.ndarray, tolerance: float = 1e-5) -> np.ndarray:\n",
    "    \"\"\"Calculate jacobian using numerical method\"\"\"\n",
    "    return np.array(\n",
    "        [\n",
    "            np.sum(\n",
    "                [\n",
    "                    loss_function_component_gradient_numerical(\n",
    "                        params,\n",
    "                        coupon_date_generate(row[\"maturity\"]),\n",
    "                        row[\"couponPercent\"],\n",
    "                        row[\"priceBid\"],\n",
    "                        row[\"priceAsk\"],\n",
    "                        element,\n",
    "                        tolerance=tolerance,\n",
    "                    )\n",
    "                    for _, row in bonds.iterrows()\n",
    "                ]\n",
    "            )\n",
    "            for element in range(len(params))\n",
    "        ]\n",
    "    )\n",
    "\n",
    "\n",
    "def hess_numerical(params: np.ndarray, tolerance: float = 1e-4) -> np.ndarray:\n",
    "    \"\"\"Calculate hessian using numerical method\"\"\"\n",
    "    return np.array(\n",
    "        [\n",
    "            np.sum(\n",
    "                [\n",
    "                    loss_function_component_hessian_numerical(\n",
    "                        params,\n",
    "                        coupon_date_generate(row[\"maturity\"]),\n",
    "                        row[\"couponPercent\"],\n",
    "                        row[\"priceBid\"],\n",
    "                        row[\"priceAsk\"],\n",
    "                        [element, element2],\n",
    "                        tolerance=tolerance,\n",
    "                    )\n",
    "                    for _, row in bonds.iterrows()\n",
    "                ]\n",
    "            )\n",
    "            for element in range(len(params))\n",
    "            for element2 in range(len(params))\n",
    "        ]\n",
    "    ).reshape(len(params), len(params))"
   ]
  },
  {
   "cell_type": "markdown",
   "id": "83cab3ef",
   "metadata": {},
   "source": [
    "# Test"
   ]
  },
  {
   "cell_type": "code",
   "execution_count": 17,
   "id": "2d96c7da",
   "metadata": {},
   "outputs": [],
   "source": [
    "x = minimize(\n",
    "    target,\n",
    "    np.ones(4) * 0.415,\n",
    "    bounds=[(None, None), (None, None), (None, None), (0, None)],\n",
    ")"
   ]
  },
  {
   "cell_type": "code",
   "execution_count": 18,
   "id": "0a4d901e",
   "metadata": {},
   "outputs": [
    {
     "data": {
      "text/plain": [
       "'CONVERGENCE: NORM OF PROJECTED GRADIENT <= PGTOL'"
      ]
     },
     "execution_count": 18,
     "metadata": {},
     "output_type": "execute_result"
    }
   ],
   "source": [
    "x.message"
   ]
  },
  {
   "cell_type": "code",
   "execution_count": 19,
   "id": "cb666bc5",
   "metadata": {},
   "outputs": [
    {
     "data": {
      "image/png": "[encoded data removed]",
      "text/plain": [
       "<Figure size 1500x600 with 1 Axes>"
      ]
     },
     "metadata": {},
     "output_type": "display_data"
    }
   ],
   "source": [
    "plot(x.x, discount_factor)"
   ]
  },
  {
   "cell_type": "code",
   "execution_count": 20,
   "id": "5d1839e4",
   "metadata": {},
   "outputs": [],
   "source": [
    "from optimize.steepest_descent import steepest_descent"
   ]
  },
  {
   "cell_type": "code",
   "execution_count": 21,
   "id": "13085f44",
   "metadata": {},
   "outputs": [],
   "source": [
    "def line_search(fun, jac, xk: np.ndarray, dk: np.ndarray, amax: int):\n",
    "    best_alpha = 0\n",
    "    best_value = fun(xk)\n",
    "    for i in range(amax):\n",
    "        alpha = (i + 1) / amax\n",
    "        x_new = xk + alpha * dk\n",
    "        if fun(x_new) < best_value:\n",
    "            best_alpha = alpha\n",
    "            best_value = fun(x_new)\n",
    "    return best_alpha"
   ]
  }
 ],
 "metadata": {
  "kernelspec": {
   "display_name": "venv",
   "language": "python",
   "name": "python3"
  },
  "language_info": {
   "codemirror_mode": {
    "name": "ipython",
    "version": 3
   },
   "file_extension": ".py",
   "mimetype": "text/x-python",
   "name": "python",
   "nbconvert_exporter": "python",
   "pygments_lexer": "ipython3",
   "version": "3.13.3"
  }
 },
 "nbformat": 4,
 "nbformat_minor": 5
}
