{
 "cells": [
  {
   "cell_type": "markdown",
   "id": "0dda49cc",
   "metadata": {},
   "source": [
    "# Import package\n"
   ]
  },
  {
   "cell_type": "code",
   "execution_count": 1,
   "id": "b5a7de21",
   "metadata": {},
   "outputs": [],
   "source": [
    "import requests\n",
    "import numpy as np\n",
    "import pandas as pd\n",
    "import json\n",
    "import matplotlib.pyplot as plt\n",
    "from autograd import grad, jacobian\n",
    "from scipy.optimize import line_search, minimize\n",
    "import datetime\n",
    "from typing import List"
   ]
  },
  {
   "cell_type": "markdown",
   "id": "c3448f32",
   "metadata": {},
   "source": [
    "# Data import and processing\n"
   ]
  },
  {
   "cell_type": "code",
   "execution_count": 2,
   "id": "9f98c5d9",
   "metadata": {},
   "outputs": [
    {
     "data": {
      "application/vnd.microsoft.datawrangler.viewer.v0+json": {
       "columns": [
        {
         "name": "index",
         "rawType": "int64",
         "type": "integer"
        },
        {
         "name": "maturity",
         "rawType": "datetime64[ns]",
         "type": "datetime"
        },
        {
         "name": "couponPercent",
         "rawType": "float64",
         "type": "float"
        },
        {
         "name": "priceBid",
         "rawType": "float64",
         "type": "float"
        },
        {
         "name": "priceAsk",
         "rawType": "float64",
         "type": "float"
        }
       ],
       "conversionMethod": "pd.DataFrame",
       "ref": "fa1106fa-f917-41e7-844b-7e42b827114c",
       "rows": [
        [
         "11",
         "2025-11-21 00:00:00",
         "0.0025",
         "98.1",
         "99.9"
        ],
        [
         "1",
         "2026-04-21 00:00:00",
         "0.0425",
         "100.78",
         "101.0"
        ],
        [
         "2",
         "2027-04-21 00:00:00",
         "0.0475",
         "102.82",
         "103.17"
        ],
        [
         "12",
         "2027-11-21 00:00:00",
         "0.0275",
         "97.0",
         "99.97"
        ],
        [
         "6",
         "2028-05-21 00:00:00",
         "0.0225",
         "97.73",
         "98.0"
        ],
        [
         "3",
         "2029-04-21 00:00:00",
         "0.0325",
         "97.0",
         "99.82"
        ],
        [
         "4",
         "2033-04-21 00:00:00",
         "0.045",
         "103.12",
         "104.0"
        ],
        [
         "5",
         "2037-04-21 00:00:00",
         "0.0375",
         "94.1",
         "97.3"
        ],
        [
         "8",
         "2039-06-21 00:00:00",
         "0.0325",
         "86.5",
         "93.0"
        ],
        [
         "7",
         "2041-05-21 00:00:00",
         "0.0275",
         "79.11",
         "84.19"
        ],
        [
         "0",
         "2047-03-21 00:00:00",
         "0.03",
         "75.5",
         "82.0"
        ],
        [
         "9",
         "2051-06-21 00:00:00",
         "0.0175",
         "53.125",
         "54.8"
        ],
        [
         "10",
         "2054-06-21 00:00:00",
         "0.0475",
         "98.89",
         "99.79"
        ]
       ],
       "shape": {
        "columns": 4,
        "rows": 13
       }
      },
      "text/html": [
       "<div>\n",
       "<style scoped>\n",
       "    .dataframe tbody tr th:only-of-type {\n",
       "        vertical-align: middle;\n",
       "    }\n",
       "\n",
       "    .dataframe tbody tr th {\n",
       "        vertical-align: top;\n",
       "    }\n",
       "\n",
       "    .dataframe thead th {\n",
       "        text-align: right;\n",
       "    }\n",
       "</style>\n",
       "<table border=\"1\" class=\"dataframe\">\n",
       "  <thead>\n",
       "    <tr style=\"text-align: right;\">\n",
       "      <th></th>\n",
       "      <th>maturity</th>\n",
       "      <th>couponPercent</th>\n",
       "      <th>priceBid</th>\n",
       "      <th>priceAsk</th>\n",
       "    </tr>\n",
       "  </thead>\n",
       "  <tbody>\n",
       "    <tr>\n",
       "      <th>11</th>\n",
       "      <td>2025-11-21</td>\n",
       "      <td>0.0025</td>\n",
       "      <td>98.100</td>\n",
       "      <td>99.90</td>\n",
       "    </tr>\n",
       "    <tr>\n",
       "      <th>1</th>\n",
       "      <td>2026-04-21</td>\n",
       "      <td>0.0425</td>\n",
       "      <td>100.780</td>\n",
       "      <td>101.00</td>\n",
       "    </tr>\n",
       "    <tr>\n",
       "      <th>2</th>\n",
       "      <td>2027-04-21</td>\n",
       "      <td>0.0475</td>\n",
       "      <td>102.820</td>\n",
       "      <td>103.17</td>\n",
       "    </tr>\n",
       "    <tr>\n",
       "      <th>12</th>\n",
       "      <td>2027-11-21</td>\n",
       "      <td>0.0275</td>\n",
       "      <td>97.000</td>\n",
       "      <td>99.97</td>\n",
       "    </tr>\n",
       "    <tr>\n",
       "      <th>6</th>\n",
       "      <td>2028-05-21</td>\n",
       "      <td>0.0225</td>\n",
       "      <td>97.730</td>\n",
       "      <td>98.00</td>\n",
       "    </tr>\n",
       "    <tr>\n",
       "      <th>3</th>\n",
       "      <td>2029-04-21</td>\n",
       "      <td>0.0325</td>\n",
       "      <td>97.000</td>\n",
       "      <td>99.82</td>\n",
       "    </tr>\n",
       "    <tr>\n",
       "      <th>4</th>\n",
       "      <td>2033-04-21</td>\n",
       "      <td>0.0450</td>\n",
       "      <td>103.120</td>\n",
       "      <td>104.00</td>\n",
       "    </tr>\n",
       "    <tr>\n",
       "      <th>5</th>\n",
       "      <td>2037-04-21</td>\n",
       "      <td>0.0375</td>\n",
       "      <td>94.100</td>\n",
       "      <td>97.30</td>\n",
       "    </tr>\n",
       "    <tr>\n",
       "      <th>8</th>\n",
       "      <td>2039-06-21</td>\n",
       "      <td>0.0325</td>\n",
       "      <td>86.500</td>\n",
       "      <td>93.00</td>\n",
       "    </tr>\n",
       "    <tr>\n",
       "      <th>7</th>\n",
       "      <td>2041-05-21</td>\n",
       "      <td>0.0275</td>\n",
       "      <td>79.110</td>\n",
       "      <td>84.19</td>\n",
       "    </tr>\n",
       "    <tr>\n",
       "      <th>0</th>\n",
       "      <td>2047-03-21</td>\n",
       "      <td>0.0300</td>\n",
       "      <td>75.500</td>\n",
       "      <td>82.00</td>\n",
       "    </tr>\n",
       "    <tr>\n",
       "      <th>9</th>\n",
       "      <td>2051-06-21</td>\n",
       "      <td>0.0175</td>\n",
       "      <td>53.125</td>\n",
       "      <td>54.80</td>\n",
       "    </tr>\n",
       "    <tr>\n",
       "      <th>10</th>\n",
       "      <td>2054-06-21</td>\n",
       "      <td>0.0475</td>\n",
       "      <td>98.890</td>\n",
       "      <td>99.79</td>\n",
       "    </tr>\n",
       "  </tbody>\n",
       "</table>\n",
       "</div>"
      ],
      "text/plain": [
       "     maturity  couponPercent  priceBid  priceAsk\n",
       "11 2025-11-21         0.0025    98.100     99.90\n",
       "1  2026-04-21         0.0425   100.780    101.00\n",
       "2  2027-04-21         0.0475   102.820    103.17\n",
       "12 2027-11-21         0.0275    97.000     99.97\n",
       "6  2028-05-21         0.0225    97.730     98.00\n",
       "3  2029-04-21         0.0325    97.000     99.82\n",
       "4  2033-04-21         0.0450   103.120    104.00\n",
       "5  2037-04-21         0.0375    94.100     97.30\n",
       "8  2039-06-21         0.0325    86.500     93.00\n",
       "7  2041-05-21         0.0275    79.110     84.19\n",
       "0  2047-03-21         0.0300    75.500     82.00\n",
       "9  2051-06-21         0.0175    53.125     54.80\n",
       "10 2054-06-21         0.0475    98.890     99.79"
      ]
     },
     "execution_count": 2,
     "metadata": {},
     "output_type": "execute_result"
    }
   ],
   "source": [
    "settledate = pd.to_datetime(datetime.date.today())\n",
    "bonds = pd.DataFrame(\n",
    "    json.loads(\n",
    "        requests.get(\n",
    "            \"https://asx.api.markitdigital.com/asx-research/1.0/bonds/government/exchange-traded?height=179&width=690\"\n",
    "        ).content\n",
    "    )[\"data\"][\"items\"]\n",
    ")\n",
    "bonds[\"maturity\"] = bonds[\"securityDescription\"].str.extract(r\"(\\d{2}-\\d{2}-\\d{2})\")[0]\n",
    "bonds[\"maturity\"] = pd.to_datetime(bonds[\"maturity\"], format=\"%d-%m-%y\")\n",
    "bonds = bonds[[\"maturity\", \"couponPercent\", \"priceBid\", \"priceAsk\"]]\n",
    "bonds[\"couponPercent\"] = bonds[\"couponPercent\"].astype(float) / 100\n",
    "bonds.dropna(inplace=True)\n",
    "bonds.reset_index(drop=True, inplace=True)\n",
    "bonds.sort_values(\"maturity\", inplace=True)\n",
    "bonds"
   ]
  },
  {
   "cell_type": "markdown",
   "id": "d1df5b95",
   "metadata": {},
   "source": [
    "# Support function\n"
   ]
  },
  {
   "cell_type": "code",
   "execution_count": 3,
   "id": "3208b1a3",
   "metadata": {},
   "outputs": [],
   "source": [
    "def year_transform(date: pd.Timestamp) -> float:\n",
    "    \"\"\"Transform date to actual year\"\"\"\n",
    "    if date == settledate:\n",
    "        return 0\n",
    "    years = date.year - settledate.year\n",
    "    check_date = pd.Timestamp(\n",
    "        year=date.year,\n",
    "        month=settledate.month,\n",
    "        day=settledate.day,\n",
    "    )\n",
    "    years += (date - check_date).days / abs(\n",
    "        (\n",
    "            check_date\n",
    "            + pd.DateOffset(years=np.sign((date - check_date).days))\n",
    "            - check_date\n",
    "        ).days\n",
    "    )\n",
    "    return years\n",
    "\n",
    "\n",
    "def coupon_date_generate(maturity: pd.Timestamp) -> np.ndarray:\n",
    "    \"\"\"Generate coupon dates\"\"\"\n",
    "    coupon_dates = [maturity]\n",
    "    while maturity - pd.DateOffset(months=6) > settledate:\n",
    "        maturity -= pd.DateOffset(months=6)\n",
    "        coupon_dates.append(maturity)\n",
    "    return np.array(list(map(year_transform, coupon_dates[::-1])))"
   ]
  },
  {
   "cell_type": "markdown",
   "id": "8337edd4",
   "metadata": {},
   "source": [
    "# Discount factor formula\n"
   ]
  },
  {
   "cell_type": "code",
   "execution_count": 4,
   "id": "acfe22bd",
   "metadata": {},
   "outputs": [],
   "source": [
    "def discount_factor(params: np.ndarray, t: np.ndarray) -> np.ndarray:\n",
    "    \"\"\"Calculate discount factor\"\"\"\n",
    "    f0, f1, f2, gamma = params\n",
    "    return np.exp(\n",
    "        -(\n",
    "            f0 * t\n",
    "            + f1 * (gamma - np.exp(-t / gamma) * gamma)\n",
    "            + f2 * (gamma - np.exp(-t / gamma) * (t + gamma))\n",
    "        )\n",
    "    )"
   ]
  },
  {
   "cell_type": "markdown",
   "id": "9ab8ba89",
   "metadata": {},
   "source": [
    "# Bond pricing formula"
   ]
  },
  {
   "cell_type": "code",
   "execution_count": 5,
   "id": "bd7da04b",
   "metadata": {},
   "outputs": [],
   "source": [
    "def bond_valuation(params: np.ndarray, maturity: pd.Timestamp, coupon: float) -> float:\n",
    "    \"\"\"Calculate bond valuation\"\"\"\n",
    "    t = coupon_date_generate(maturity)\n",
    "    cf = np.ones_like(t) * coupon / 2\n",
    "    cf[-1] += 1\n",
    "    return 100 * np.sum(cf * discount_factor(params, t))"
   ]
  },
  {
   "cell_type": "markdown",
   "id": "6d9180b9",
   "metadata": {},
   "source": [
    "# Loss function"
   ]
  },
  {
   "cell_type": "code",
   "execution_count": 6,
   "id": "f676adae",
   "metadata": {},
   "outputs": [],
   "source": [
    "def loss_function(\n",
    "    params: np.ndarray, maturity: pd.Timestamp, coupon: float, bid: float, ask: float\n",
    ") -> float:\n",
    "\n",
    "    \"\"\"Objective function for optimization\"\"\"\n",
    "\n",
    "    bond_price = bond_valuation(params, maturity, coupon)\n",
    "\n",
    "    return (max(0, bond_price - ask) / ask) ** 2 + (max(0, bid - bond_price) / bid) ** 2"
   ]
  },
  {
   "cell_type": "markdown",
   "id": "46ea96e3",
   "metadata": {},
   "source": [
    "# Discount factor curve"
   ]
  },
  {
   "cell_type": "code",
   "execution_count": 7,
   "id": "90ba1fdd",
   "metadata": {},
   "outputs": [],
   "source": [
    "def plot(params: List[float]):\n",
    "    t = np.linspace(0, 30, 100000)\n",
    "    dfs = discount_factor(params, t)\n",
    "    plt.figure(figsize=(15, 6))\n",
    "    plt.plot(t, dfs)\n",
    "    plt.title(\"Discount Factor Curve\")\n",
    "    plt.xlabel(\"Years\")\n",
    "    plt.ylabel(\"Discount Factor\")\n",
    "    plt.grid()\n",
    "    plt.show()"
   ]
  },
  {
   "cell_type": "markdown",
   "id": "8c72333d",
   "metadata": {},
   "source": [
    "# Testing with package optimizer"
   ]
  },
  {
   "cell_type": "code",
   "execution_count": 8,
   "id": "679bbe5d",
   "metadata": {},
   "outputs": [],
   "source": [
    "def target(params: np.ndarray) -> float:\n",
    "    \"\"\"Target function to be minimized\"\"\"\n",
    "    return np.sum(\n",
    "        [\n",
    "            loss_function(\n",
    "                params,\n",
    "                row[\"maturity\"],\n",
    "                row[\"couponPercent\"],\n",
    "                row[\"priceBid\"],\n",
    "                row[\"priceAsk\"],\n",
    "            )\n",
    "            for _, row in bonds.iterrows()\n",
    "        ]\n",
    "    )\n",
    "\n",
    "\n",
    "params = minimize(\n",
    "    target,\n",
    "    np.array([0.03, 0.03, 0.03, 1]),\n",
    "    method=\"L-BFGS-B\",\n",
    ")"
   ]
  },
  {
   "cell_type": "code",
   "execution_count": 9,
   "id": "f618fba6",
   "metadata": {},
   "outputs": [
    {
     "data": {
      "text/plain": [
       "  message: CONVERGENCE: RELATIVE REDUCTION OF F <= FACTR*EPSMCH\n",
       "  success: True\n",
       "   status: 0\n",
       "      fun: 0.0003825118311420122\n",
       "        x: [ 5.173e-02  3.522e-02 -1.026e-01  1.002e+00]\n",
       "      nit: 21\n",
       "      jac: [-2.621e-04  1.822e-07 -3.540e-05 -4.701e-04]\n",
       "     nfev: 130\n",
       "     njev: 26\n",
       " hess_inv: <4x4 LbfgsInvHessProduct with dtype=float64>"
      ]
     },
     "execution_count": 9,
     "metadata": {},
     "output_type": "execute_result"
    }
   ],
   "source": [
    "params"
   ]
  },
  {
   "cell_type": "code",
   "execution_count": 10,
   "id": "7b9b0b1b",
   "metadata": {},
   "outputs": [
    {
     "data": {
      "image/png": "[encoded data removed]",
      "text/plain": [
       "<Figure size 1500x600 with 1 Axes>"
      ]
     },
     "metadata": {},
     "output_type": "display_data"
    }
   ],
   "source": [
    "plot(params.x)"
   ]
  }
 ],
 "metadata": {
  "kernelspec": {
   "display_name": "venv",
   "language": "python",
   "name": "python3"
  },
  "language_info": {
   "codemirror_mode": {
    "name": "ipython",
    "version": 3
   },
   "file_extension": ".py",
   "mimetype": "text/x-python",
   "name": "python",
   "nbconvert_exporter": "python",
   "pygments_lexer": "ipython3",
   "version": "3.13.3"
  }
 },
 "nbformat": 4,
 "nbformat_minor": 5
}
