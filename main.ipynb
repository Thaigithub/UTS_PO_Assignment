{
 "cells": [
  {
   "cell_type": "markdown",
   "id": "0dda49cc",
   "metadata": {},
   "source": [
    "# Import package\n"
   ]
  },
  {
   "cell_type": "code",
   "execution_count": 50,
   "id": "b5a7de21",
   "metadata": {},
   "outputs": [],
   "source": [
    "import requests\n",
    "import autograd.numpy as np\n",
    "import pandas as pd\n",
    "import json\n",
    "import matplotlib.pyplot as plt\n",
    "from autograd import grad, jacobian\n",
    "from scipy.optimize import line_search, minimize\n",
    "import datetime\n",
    "from typing import List\n",
    "from numba import njit"
   ]
  },
  {
   "cell_type": "markdown",
   "id": "c3448f32",
   "metadata": {},
   "source": [
    "# Data import and processing\n"
   ]
  },
  {
   "cell_type": "markdown",
   "id": "f9eecdaf",
   "metadata": {},
   "source": [
    "## Online"
   ]
  },
  {
   "cell_type": "code",
   "execution_count": 51,
   "id": "9f98c5d9",
   "metadata": {},
   "outputs": [
    {
     "data": {
      "application/vnd.microsoft.datawrangler.viewer.v0+json": {
       "columns": [
        {
         "name": "index",
         "rawType": "int64",
         "type": "integer"
        },
        {
         "name": "maturity",
         "rawType": "datetime64[ns]",
         "type": "datetime"
        },
        {
         "name": "couponPercent",
         "rawType": "float64",
         "type": "float"
        },
        {
         "name": "priceBid",
         "rawType": "float64",
         "type": "float"
        },
        {
         "name": "priceAsk",
         "rawType": "float64",
         "type": "float"
        }
       ],
       "conversionMethod": "pd.DataFrame",
       "ref": "5d5ff37b-877a-465e-9915-b0f829c99af6",
       "rows": [
        [
         "0",
         "2025-11-21 00:00:00",
         "0.0025",
         "98.0",
         "99.95"
        ],
        [
         "1",
         "2026-04-21 00:00:00",
         "0.0425",
         "100.81",
         "103.0"
        ],
        [
         "2",
         "2027-04-21 00:00:00",
         "0.0475",
         "102.1",
         "103.32"
        ],
        [
         "3",
         "2027-11-21 00:00:00",
         "0.0275",
         "97.5",
         "98.22"
        ],
        [
         "4",
         "2028-05-21 00:00:00",
         "0.0225",
         "96.0",
         "96.37"
        ],
        [
         "5",
         "2029-04-21 00:00:00",
         "0.0325",
         "97.0",
         "99.82"
        ],
        [
         "6",
         "2033-04-21 00:00:00",
         "0.045",
         "101.65",
         "103.5"
        ],
        [
         "7",
         "2034-12-21 00:00:00",
         "0.035",
         "92.7",
         "96.83"
        ],
        [
         "8",
         "2037-04-21 00:00:00",
         "0.0375",
         "93.0",
         "93.3"
        ],
        [
         "9",
         "2039-06-21 00:00:00",
         "0.0325",
         "85.75",
         "92.0"
        ],
        [
         "10",
         "2047-03-21 00:00:00",
         "0.03",
         "74.0",
         "78.0"
        ],
        [
         "11",
         "2051-06-21 00:00:00",
         "0.0175",
         "52.63",
         "56.0"
        ],
        [
         "12",
         "2054-06-21 00:00:00",
         "0.0475",
         "97.52",
         "98.2"
        ]
       ],
       "shape": {
        "columns": 4,
        "rows": 13
       }
      },
      "text/html": [
       "<div>\n",
       "<style scoped>\n",
       "    .dataframe tbody tr th:only-of-type {\n",
       "        vertical-align: middle;\n",
       "    }\n",
       "\n",
       "    .dataframe tbody tr th {\n",
       "        vertical-align: top;\n",
       "    }\n",
       "\n",
       "    .dataframe thead th {\n",
       "        text-align: right;\n",
       "    }\n",
       "</style>\n",
       "<table border=\"1\" class=\"dataframe\">\n",
       "  <thead>\n",
       "    <tr style=\"text-align: right;\">\n",
       "      <th></th>\n",
       "      <th>maturity</th>\n",
       "      <th>couponPercent</th>\n",
       "      <th>priceBid</th>\n",
       "      <th>priceAsk</th>\n",
       "    </tr>\n",
       "  </thead>\n",
       "  <tbody>\n",
       "    <tr>\n",
       "      <th>0</th>\n",
       "      <td>2025-11-21</td>\n",
       "      <td>0.0025</td>\n",
       "      <td>98.00</td>\n",
       "      <td>99.95</td>\n",
       "    </tr>\n",
       "    <tr>\n",
       "      <th>1</th>\n",
       "      <td>2026-04-21</td>\n",
       "      <td>0.0425</td>\n",
       "      <td>100.81</td>\n",
       "      <td>103.00</td>\n",
       "    </tr>\n",
       "    <tr>\n",
       "      <th>2</th>\n",
       "      <td>2027-04-21</td>\n",
       "      <td>0.0475</td>\n",
       "      <td>102.10</td>\n",
       "      <td>103.32</td>\n",
       "    </tr>\n",
       "    <tr>\n",
       "      <th>3</th>\n",
       "      <td>2027-11-21</td>\n",
       "      <td>0.0275</td>\n",
       "      <td>97.50</td>\n",
       "      <td>98.22</td>\n",
       "    </tr>\n",
       "    <tr>\n",
       "      <th>4</th>\n",
       "      <td>2028-05-21</td>\n",
       "      <td>0.0225</td>\n",
       "      <td>96.00</td>\n",
       "      <td>96.37</td>\n",
       "    </tr>\n",
       "    <tr>\n",
       "      <th>5</th>\n",
       "      <td>2029-04-21</td>\n",
       "      <td>0.0325</td>\n",
       "      <td>97.00</td>\n",
       "      <td>99.82</td>\n",
       "    </tr>\n",
       "    <tr>\n",
       "      <th>6</th>\n",
       "      <td>2033-04-21</td>\n",
       "      <td>0.0450</td>\n",
       "      <td>101.65</td>\n",
       "      <td>103.50</td>\n",
       "    </tr>\n",
       "    <tr>\n",
       "      <th>7</th>\n",
       "      <td>2034-12-21</td>\n",
       "      <td>0.0350</td>\n",
       "      <td>92.70</td>\n",
       "      <td>96.83</td>\n",
       "    </tr>\n",
       "    <tr>\n",
       "      <th>8</th>\n",
       "      <td>2037-04-21</td>\n",
       "      <td>0.0375</td>\n",
       "      <td>93.00</td>\n",
       "      <td>93.30</td>\n",
       "    </tr>\n",
       "    <tr>\n",
       "      <th>9</th>\n",
       "      <td>2039-06-21</td>\n",
       "      <td>0.0325</td>\n",
       "      <td>85.75</td>\n",
       "      <td>92.00</td>\n",
       "    </tr>\n",
       "    <tr>\n",
       "      <th>10</th>\n",
       "      <td>2047-03-21</td>\n",
       "      <td>0.0300</td>\n",
       "      <td>74.00</td>\n",
       "      <td>78.00</td>\n",
       "    </tr>\n",
       "    <tr>\n",
       "      <th>11</th>\n",
       "      <td>2051-06-21</td>\n",
       "      <td>0.0175</td>\n",
       "      <td>52.63</td>\n",
       "      <td>56.00</td>\n",
       "    </tr>\n",
       "    <tr>\n",
       "      <th>12</th>\n",
       "      <td>2054-06-21</td>\n",
       "      <td>0.0475</td>\n",
       "      <td>97.52</td>\n",
       "      <td>98.20</td>\n",
       "    </tr>\n",
       "  </tbody>\n",
       "</table>\n",
       "</div>"
      ],
      "text/plain": [
       "     maturity  couponPercent  priceBid  priceAsk\n",
       "0  2025-11-21         0.0025     98.00     99.95\n",
       "1  2026-04-21         0.0425    100.81    103.00\n",
       "2  2027-04-21         0.0475    102.10    103.32\n",
       "3  2027-11-21         0.0275     97.50     98.22\n",
       "4  2028-05-21         0.0225     96.00     96.37\n",
       "5  2029-04-21         0.0325     97.00     99.82\n",
       "6  2033-04-21         0.0450    101.65    103.50\n",
       "7  2034-12-21         0.0350     92.70     96.83\n",
       "8  2037-04-21         0.0375     93.00     93.30\n",
       "9  2039-06-21         0.0325     85.75     92.00\n",
       "10 2047-03-21         0.0300     74.00     78.00\n",
       "11 2051-06-21         0.0175     52.63     56.00\n",
       "12 2054-06-21         0.0475     97.52     98.20"
      ]
     },
     "execution_count": 51,
     "metadata": {},
     "output_type": "execute_result"
    }
   ],
   "source": [
    "settledate = pd.to_datetime(datetime.date.today())\n",
    "bonds = pd.DataFrame(\n",
    "    json.loads(\n",
    "        requests.get(\n",
    "            \"https://asx.api.markitdigital.com/asx-research/1.0/bonds/government/exchange-traded?height=179&width=690\"\n",
    "        ).content\n",
    "    )[\"data\"][\"items\"]\n",
    ")\n",
    "bonds[\"maturity\"] = bonds[\"securityDescription\"].str.extract(r\"(\\d{2}-\\d{2}-\\d{2})\")[0]\n",
    "bonds[\"maturity\"] = pd.to_datetime(bonds[\"maturity\"], format=\"%d-%m-%y\")\n",
    "bonds = bonds[[\"maturity\", \"couponPercent\", \"priceBid\", \"priceAsk\"]]\n",
    "bonds[\"couponPercent\"] = bonds[\"couponPercent\"].astype(float) / 100\n",
    "bonds.dropna(inplace=True)\n",
    "bonds.sort_values(\"maturity\", inplace=True)\n",
    "bonds.reset_index(drop=True, inplace=True)\n",
    "bonds.to_csv(f\"bonds_{settledate.strftime('%Y%m%d')}.csv\", index=False)\n",
    "bonds"
   ]
  },
  {
   "cell_type": "markdown",
   "id": "5885abb8",
   "metadata": {},
   "source": [
    "## Offline"
   ]
  },
  {
   "cell_type": "code",
   "execution_count": null,
   "id": "501eb0e4",
   "metadata": {},
   "outputs": [
    {
     "data": {
      "application/vnd.microsoft.datawrangler.viewer.v0+json": {
       "columns": [
        {
         "name": "index",
         "rawType": "int64",
         "type": "integer"
        },
        {
         "name": "maturity",
         "rawType": "datetime64[ns]",
         "type": "datetime"
        },
        {
         "name": "couponPercent",
         "rawType": "float64",
         "type": "float"
        },
        {
         "name": "priceBid",
         "rawType": "float64",
         "type": "float"
        },
        {
         "name": "priceAsk",
         "rawType": "float64",
         "type": "float"
        }
       ],
       "conversionMethod": "pd.DataFrame",
       "ref": "ecc9227a-d81e-4b82-938b-d04915b2f287",
       "rows": [
        [
         "0",
         "2025-11-21 00:00:00",
         "0.0025",
         "98.21",
         "99.0"
        ],
        [
         "1",
         "2026-04-21 00:00:00",
         "0.0425",
         "100.8",
         "103.0"
        ],
        [
         "2",
         "2027-04-21 00:00:00",
         "0.0475",
         "102.82",
         "103.32"
        ],
        [
         "3",
         "2027-11-21 00:00:00",
         "0.0275",
         "97.0",
         "100.06"
        ],
        [
         "4",
         "2028-05-21 00:00:00",
         "0.0225",
         "97.8",
         "98.06"
        ],
        [
         "5",
         "2029-04-21 00:00:00",
         "0.0325",
         "97.0",
         "99.82"
        ],
        [
         "6",
         "2033-04-21 00:00:00",
         "0.045",
         "102.9",
         "105.0"
        ],
        [
         "7",
         "2033-11-21 00:00:00",
         "0.03",
         "93.5",
         "95.0"
        ],
        [
         "8",
         "2037-04-21 00:00:00",
         "0.0375",
         "94.4",
         "95.8"
        ],
        [
         "9",
         "2039-06-21 00:00:00",
         "0.0325",
         "86.5",
         "92.4"
        ],
        [
         "10",
         "2041-05-21 00:00:00",
         "0.0275",
         "79.11",
         "84.19"
        ],
        [
         "11",
         "2047-03-21 00:00:00",
         "0.03",
         "75.95",
         "82.0"
        ],
        [
         "12",
         "2051-06-21 00:00:00",
         "0.0175",
         "54.5",
         "58.9"
        ],
        [
         "13",
         "2054-06-21 00:00:00",
         "0.0475",
         "99.13",
         "99.9"
        ]
       ],
       "shape": {
        "columns": 4,
        "rows": 14
       }
      },
      "text/html": [
       "<div>\n",
       "<style scoped>\n",
       "    .dataframe tbody tr th:only-of-type {\n",
       "        vertical-align: middle;\n",
       "    }\n",
       "\n",
       "    .dataframe tbody tr th {\n",
       "        vertical-align: top;\n",
       "    }\n",
       "\n",
       "    .dataframe thead th {\n",
       "        text-align: right;\n",
       "    }\n",
       "</style>\n",
       "<table border=\"1\" class=\"dataframe\">\n",
       "  <thead>\n",
       "    <tr style=\"text-align: right;\">\n",
       "      <th></th>\n",
       "      <th>maturity</th>\n",
       "      <th>couponPercent</th>\n",
       "      <th>priceBid</th>\n",
       "      <th>priceAsk</th>\n",
       "    </tr>\n",
       "  </thead>\n",
       "  <tbody>\n",
       "    <tr>\n",
       "      <th>0</th>\n",
       "      <td>2025-11-21</td>\n",
       "      <td>0.0025</td>\n",
       "      <td>98.21</td>\n",
       "      <td>99.00</td>\n",
       "    </tr>\n",
       "    <tr>\n",
       "      <th>1</th>\n",
       "      <td>2026-04-21</td>\n",
       "      <td>0.0425</td>\n",
       "      <td>100.80</td>\n",
       "      <td>103.00</td>\n",
       "    </tr>\n",
       "    <tr>\n",
       "      <th>2</th>\n",
       "      <td>2027-04-21</td>\n",
       "      <td>0.0475</td>\n",
       "      <td>102.82</td>\n",
       "      <td>103.32</td>\n",
       "    </tr>\n",
       "    <tr>\n",
       "      <th>3</th>\n",
       "      <td>2027-11-21</td>\n",
       "      <td>0.0275</td>\n",
       "      <td>97.00</td>\n",
       "      <td>100.06</td>\n",
       "    </tr>\n",
       "    <tr>\n",
       "      <th>4</th>\n",
       "      <td>2028-05-21</td>\n",
       "      <td>0.0225</td>\n",
       "      <td>97.80</td>\n",
       "      <td>98.06</td>\n",
       "    </tr>\n",
       "    <tr>\n",
       "      <th>5</th>\n",
       "      <td>2029-04-21</td>\n",
       "      <td>0.0325</td>\n",
       "      <td>97.00</td>\n",
       "      <td>99.82</td>\n",
       "    </tr>\n",
       "    <tr>\n",
       "      <th>6</th>\n",
       "      <td>2033-04-21</td>\n",
       "      <td>0.0450</td>\n",
       "      <td>102.90</td>\n",
       "      <td>105.00</td>\n",
       "    </tr>\n",
       "    <tr>\n",
       "      <th>7</th>\n",
       "      <td>2033-11-21</td>\n",
       "      <td>0.0300</td>\n",
       "      <td>93.50</td>\n",
       "      <td>95.00</td>\n",
       "    </tr>\n",
       "    <tr>\n",
       "      <th>8</th>\n",
       "      <td>2037-04-21</td>\n",
       "      <td>0.0375</td>\n",
       "      <td>94.40</td>\n",
       "      <td>95.80</td>\n",
       "    </tr>\n",
       "    <tr>\n",
       "      <th>9</th>\n",
       "      <td>2039-06-21</td>\n",
       "      <td>0.0325</td>\n",
       "      <td>86.50</td>\n",
       "      <td>92.40</td>\n",
       "    </tr>\n",
       "    <tr>\n",
       "      <th>10</th>\n",
       "      <td>2041-05-21</td>\n",
       "      <td>0.0275</td>\n",
       "      <td>79.11</td>\n",
       "      <td>84.19</td>\n",
       "    </tr>\n",
       "    <tr>\n",
       "      <th>11</th>\n",
       "      <td>2047-03-21</td>\n",
       "      <td>0.0300</td>\n",
       "      <td>75.95</td>\n",
       "      <td>82.00</td>\n",
       "    </tr>\n",
       "    <tr>\n",
       "      <th>12</th>\n",
       "      <td>2051-06-21</td>\n",
       "      <td>0.0175</td>\n",
       "      <td>54.50</td>\n",
       "      <td>58.90</td>\n",
       "    </tr>\n",
       "    <tr>\n",
       "      <th>13</th>\n",
       "      <td>2054-06-21</td>\n",
       "      <td>0.0475</td>\n",
       "      <td>99.13</td>\n",
       "      <td>99.90</td>\n",
       "    </tr>\n",
       "  </tbody>\n",
       "</table>\n",
       "</div>"
      ],
      "text/plain": [
       "     maturity  couponPercent  priceBid  priceAsk\n",
       "0  2025-11-21         0.0025     98.21     99.00\n",
       "1  2026-04-21         0.0425    100.80    103.00\n",
       "2  2027-04-21         0.0475    102.82    103.32\n",
       "3  2027-11-21         0.0275     97.00    100.06\n",
       "4  2028-05-21         0.0225     97.80     98.06\n",
       "5  2029-04-21         0.0325     97.00     99.82\n",
       "6  2033-04-21         0.0450    102.90    105.00\n",
       "7  2033-11-21         0.0300     93.50     95.00\n",
       "8  2037-04-21         0.0375     94.40     95.80\n",
       "9  2039-06-21         0.0325     86.50     92.40\n",
       "10 2041-05-21         0.0275     79.11     84.19\n",
       "11 2047-03-21         0.0300     75.95     82.00\n",
       "12 2051-06-21         0.0175     54.50     58.90\n",
       "13 2054-06-21         0.0475     99.13     99.90"
      ]
     },
     "execution_count": 52,
     "metadata": {},
     "output_type": "execute_result"
    }
   ],
   "source": [
    "settledate = pd.to_datetime(\"2025-05-18\")\n",
    "bonds = pd.read_csv(f\"bonds_{settledate.strftime('%Y%m%d')}.csv\")\n",
    "bonds[\"maturity\"] = pd.to_datetime(bonds[\"maturity\"])\n",
    "bonds"
   ]
  },
  {
   "cell_type": "markdown",
   "id": "d1df5b95",
   "metadata": {},
   "source": [
    "# Support function\n"
   ]
  },
  {
   "cell_type": "code",
   "execution_count": 53,
   "id": "3208b1a3",
   "metadata": {},
   "outputs": [],
   "source": [
    "def year_transform(date: pd.Timestamp) -> float:\n",
    "    \"\"\"Transform date to actual year\"\"\"\n",
    "    if date == settledate:\n",
    "        return 0\n",
    "    years = date.year - settledate.year\n",
    "    check_date = pd.Timestamp(\n",
    "        year=date.year,\n",
    "        month=settledate.month,\n",
    "        day=settledate.day,\n",
    "    )\n",
    "    years += (date - check_date).days / abs(\n",
    "        (\n",
    "            check_date\n",
    "            + pd.DateOffset(years=np.sign((date - check_date).days))\n",
    "            - check_date\n",
    "        ).days\n",
    "    )\n",
    "    return years\n",
    "\n",
    "\n",
    "def coupon_date_generate(maturity: pd.Timestamp) -> np.ndarray:\n",
    "    \"\"\"Generate coupon dates\"\"\"\n",
    "    coupon_dates = [maturity]\n",
    "    while maturity - pd.DateOffset(months=6) > settledate:\n",
    "        maturity -= pd.DateOffset(months=6)\n",
    "        coupon_dates.append(maturity)\n",
    "    return np.array(list(map(year_transform, coupon_dates[::-1])))"
   ]
  },
  {
   "cell_type": "markdown",
   "id": "a78b452b",
   "metadata": {},
   "source": [
    "# Discount factor curve\n"
   ]
  },
  {
   "cell_type": "code",
   "execution_count": 54,
   "id": "9da7c1f4",
   "metadata": {},
   "outputs": [],
   "source": [
    "def plot(params: np.ndarray, func: callable) -> None:\n",
    "    t = np.linspace(0, 30, 100000)\n",
    "    dfs = func(params, t)\n",
    "    plt.figure(figsize=(15, 6))\n",
    "    plt.plot(t, dfs)\n",
    "    plt.title(\"Discount Factor Curve\")\n",
    "    plt.xlabel(\"Years\")\n",
    "    plt.ylabel(\"Discount Factor\")\n",
    "    plt.grid()\n",
    "    plt.show()"
   ]
  },
  {
   "cell_type": "markdown",
   "id": "bcdf6660",
   "metadata": {},
   "source": [
    "# Basic function\n"
   ]
  },
  {
   "cell_type": "markdown",
   "id": "d0756149",
   "metadata": {},
   "source": [
    "## Discount factor function\n"
   ]
  },
  {
   "cell_type": "code",
   "execution_count": 55,
   "id": "eeca4540",
   "metadata": {},
   "outputs": [],
   "source": [
    "# @njit(cache=True)\n",
    "def discount_factor(params: np.ndarray, t: np.ndarray) -> np.ndarray:\n",
    "    \"\"\"Calculate discount factor\"\"\"\n",
    "    f0, f1, f2, gamma = params\n",
    "    return np.exp(\n",
    "        -(\n",
    "            f0 * t\n",
    "            + f1 * (gamma - np.exp(-t / gamma) * gamma)\n",
    "            + f2 * (gamma - np.exp(-t / gamma) * (t + gamma))\n",
    "        )\n",
    "    )"
   ]
  },
  {
   "cell_type": "markdown",
   "id": "9ab8ba89",
   "metadata": {},
   "source": [
    "## Bond valuation function\n"
   ]
  },
  {
   "cell_type": "code",
   "execution_count": 56,
   "id": "bd7da04b",
   "metadata": {},
   "outputs": [],
   "source": [
    "# @njit(cache=True)\n",
    "def bond_valuation(params: np.ndarray, t: np.ndarray, coupon: float) -> float:\n",
    "    \"\"\"Calculate bond valuation\"\"\"\n",
    "    cf = np.ones_like(t) * coupon / 2\n",
    "    cf[-1] += 1\n",
    "    return 100 * np.sum(cf * discount_factor(params, t))"
   ]
  },
  {
   "cell_type": "markdown",
   "id": "6d9180b9",
   "metadata": {},
   "source": [
    "## Loss function component\n"
   ]
  },
  {
   "cell_type": "code",
   "execution_count": 82,
   "id": "f676adae",
   "metadata": {},
   "outputs": [],
   "source": [
    "# @njit(cache=True)\n",
    "def loss_function_component(\n",
    "    params: np.ndarray, t: np.ndarray, coupon: float, bid: float, ask: float\n",
    ") -> float:\n",
    "    \"\"\"Objective function for optimization\"\"\"\n",
    "    bond_price = bond_valuation(params, t, coupon)\n",
    "    return (max(0, bond_price - ask) / ask) ** 2 + (max(0, bid - bond_price) / bid) ** 2"
   ]
  },
  {
   "cell_type": "markdown",
   "id": "cc5284ea",
   "metadata": {},
   "source": [
    "# Analytical\n"
   ]
  },
  {
   "cell_type": "markdown",
   "id": "03658c23",
   "metadata": {},
   "source": [
    "## Gradient function\n"
   ]
  },
  {
   "cell_type": "code",
   "execution_count": 58,
   "id": "40362a42",
   "metadata": {},
   "outputs": [],
   "source": [
    "@njit(cache=True)\n",
    "def discount_factor_gradient_analytical(\n",
    "    params: np.ndarray, t: np.ndarray, element: int\n",
    ") -> np.ndarray:\n",
    "    \"\"\"Calculate gradient of discount factor\"\"\"\n",
    "    f0, f1, f2, gamma = params\n",
    "    if element == 0:\n",
    "        return -t * discount_factor(params, t)\n",
    "    elif element == 1:\n",
    "        return (-gamma + np.exp(-t / gamma) * gamma) * discount_factor(params, t)\n",
    "    elif element == 2:\n",
    "        return (-gamma + np.exp(-t / gamma) * (t + gamma)) * discount_factor(params, t)\n",
    "    else:\n",
    "        return (\n",
    "            -f1 * (1 - np.exp(-t / gamma) - t * np.exp(-t / gamma) / gamma)\n",
    "            - f2\n",
    "            * (\n",
    "                1\n",
    "                - np.exp(-t / gamma)\n",
    "                - t * np.exp(-t / gamma) * (t + gamma) / (gamma**2)\n",
    "            )\n",
    "        ) * discount_factor(params, t)\n",
    "\n",
    "\n",
    "@njit(cache=True)\n",
    "def bond_valuation_gradient_analytical(\n",
    "    params: np.ndarray, t: np.ndarray, coupon: float, element: int\n",
    ") -> float:\n",
    "    \"\"\"Calculate gradient of bond valuation\"\"\"\n",
    "    cf = np.ones_like(t) * coupon / 2\n",
    "    cf[-1] += 1\n",
    "    return 100 * np.sum(cf * discount_factor_gradient_analytical(params, t, element))\n",
    "\n",
    "\n",
    "@njit(cache=True)\n",
    "def loss_function_component_gradient_analytical(\n",
    "    params: np.ndarray,\n",
    "    t: np.ndarray,\n",
    "    coupon: float,\n",
    "    bid: float,\n",
    "    ask: float,\n",
    "    element: int,\n",
    ") -> float:\n",
    "    \"\"\"Calculate gradient of bond valuation\"\"\"\n",
    "    vj = bond_valuation(params, t, coupon)\n",
    "    if vj > ask:\n",
    "        return (2 * (vj - ask) / (ask**2)) * bond_valuation_gradient_analytical(\n",
    "            params, t, coupon, element\n",
    "        )\n",
    "    elif vj < bid:\n",
    "        return (2 * (vj - bid) / (bid**2)) * bond_valuation_gradient_analytical(\n",
    "            params, t, coupon, element\n",
    "        )\n",
    "    else:\n",
    "        return 0.0"
   ]
  },
  {
   "cell_type": "markdown",
   "id": "5e94ae6e",
   "metadata": {},
   "source": [
    "## Hessian Function\n"
   ]
  },
  {
   "cell_type": "code",
   "execution_count": 59,
   "id": "f759ed85",
   "metadata": {},
   "outputs": [],
   "source": [
    "@njit(cache=True)\n",
    "def discount_factor_hessian_analytical(\n",
    "    params: np.ndarray, t: np.ndarray, elements: List[int]\n",
    ") -> np.ndarray:\n",
    "    \"\"\"Calculate hessian of discount factor\"\"\"\n",
    "    f0, f1, f2, gamma = params\n",
    "    sorted_elements = sorted(elements)\n",
    "    if sorted_elements == [0, 0]:\n",
    "        return t**2 * discount_factor(params, t)\n",
    "    elif sorted_elements == [0, 1]:\n",
    "        return -t * (-gamma + np.exp(-t / gamma) * gamma) * discount_factor(params, t)\n",
    "    elif sorted_elements == [0, 2]:\n",
    "        return (\n",
    "            -t\n",
    "            * (-gamma + np.exp(-t / gamma) * (t + gamma))\n",
    "            * discount_factor(params, t)\n",
    "        )\n",
    "    elif sorted_elements == [0, 3]:\n",
    "        return (\n",
    "            -t\n",
    "            * (\n",
    "                -f1 * (1 - np.exp(-t / gamma) - t * np.exp(-t / gamma) / gamma)\n",
    "                - f2\n",
    "                * (\n",
    "                    1\n",
    "                    - np.exp(-t / gamma)\n",
    "                    - t * np.exp(-t / gamma) * (t + gamma) / (gamma**2)\n",
    "                )\n",
    "            )\n",
    "            * discount_factor(params, t)\n",
    "        )\n",
    "    elif sorted_elements == [1, 1]:\n",
    "        return ((-gamma + np.exp(-t / gamma) * gamma) ** 2) * discount_factor(params, t)\n",
    "    elif sorted_elements == [1, 2]:\n",
    "        return (\n",
    "            (-gamma + np.exp(-t / gamma) * gamma)\n",
    "            * (-gamma + np.exp(-t / gamma) * (t + gamma))\n",
    "            * discount_factor(params, t)\n",
    "        )\n",
    "    elif sorted_elements == [1, 3]:\n",
    "        return (\n",
    "            (-1 + np.exp(-t / gamma) + np.exp(-t / gamma) * t / gamma) * (f1 + 1)\n",
    "            - f2\n",
    "            * (\n",
    "                1\n",
    "                - np.exp(-t / gamma)\n",
    "                - t * (t + gamma) * np.exp(-t / gamma) / (gamma**2)\n",
    "            )\n",
    "        ) * discount_factor(params, t)\n",
    "    elif sorted_elements == [2, 2]:\n",
    "        return ((-gamma + np.exp(-t / gamma) * (t + gamma)) ** 2) * discount_factor(\n",
    "            params, t\n",
    "        )\n",
    "    elif sorted_elements == [2, 3]:\n",
    "        return (\n",
    "            (-1 + np.exp(-t / gamma) + np.exp(-t / gamma) * t / gamma)\n",
    "            * (1 + f1 * (-gamma + np.exp(-t / gamma) * (t + gamma)))\n",
    "            - (-gamma + np.exp(-t / gamma) * (t + gamma))\n",
    "            * (\n",
    "                1\n",
    "                - np.exp(-t / gamma)\n",
    "                - np.exp(-t / gamma) * t * (t + gamma) / (gamma**2)\n",
    "            )\n",
    "            * f2\n",
    "        ) * discount_factor(params, t)\n",
    "    else:\n",
    "        return (\n",
    "            np.exp(-t / gamma) * (t**2) * f1 / (gamma**3)\n",
    "            - (\n",
    "                -2 * np.exp(-t / gamma) * t / (gamma**2)\n",
    "                - np.exp(-t / gamma) * (t**2) * (t + gamma) / (gamma**4)\n",
    "                + 2 * np.exp(-t / gamma) * t\n",
    "                + (t + gamma) / (gamma**3)\n",
    "            )\n",
    "            * f2\n",
    "            + (\n",
    "                f1 * (1 - np.exp(-t / gamma) - np.exp(-t / gamma) * t / gamma)\n",
    "                + f2\n",
    "                * (\n",
    "                    1\n",
    "                    - np.exp(-t / gamma)\n",
    "                    - np.exp(-t / gamma) * t * (t + gamma) / (gamma**2)\n",
    "                )\n",
    "            )\n",
    "            ** 2\n",
    "        ) * discount_factor(params, t)\n",
    "\n",
    "\n",
    "@njit(cache=True)\n",
    "def bond_valuation_hessian_analytical(\n",
    "    params: np.ndarray, t: np.ndarray, coupon: float, elements: List[int]\n",
    ") -> float:\n",
    "    \"\"\"Calculate hessian of bond valuation\"\"\"\n",
    "    cf = np.ones_like(t) * coupon / 2\n",
    "    cf[-1] += 1\n",
    "    return 100 * np.sum(cf * discount_factor_hessian_analytical(params, t, elements))\n",
    "\n",
    "\n",
    "@njit(cache=True)\n",
    "def loss_function_component_hessian_analytical(\n",
    "    params: np.ndarray,\n",
    "    t: np.ndarray,\n",
    "    coupon: float,\n",
    "    bid: float,\n",
    "    ask: float,\n",
    "    elements: List[int],\n",
    ") -> float:\n",
    "    \"\"\"Calculate hessian of loss component\"\"\"\n",
    "    vj = bond_valuation(params, t, coupon)\n",
    "    if vj > ask:\n",
    "        return (2 * (vj - ask) / (ask**2)) * bond_valuation_hessian_analytical(\n",
    "            params, t, coupon, elements\n",
    "        ) + (2 / (ask**2)) * bond_valuation_gradient_analytical(\n",
    "            params, t, coupon, elements[0]\n",
    "        ) * bond_valuation_gradient_analytical(\n",
    "            params, t, coupon, elements[1]\n",
    "        )\n",
    "    elif vj < bid:\n",
    "        return (2 * (vj - bid) / (bid**2)) * bond_valuation_hessian_analytical(\n",
    "            params, t, coupon, elements\n",
    "        ) + (2 / (bid**2)) * bond_valuation_gradient_analytical(\n",
    "            params, t, coupon, elements[0]\n",
    "        ) * bond_valuation_gradient_analytical(\n",
    "            params, t, coupon, elements[1]\n",
    "        )\n",
    "    else:\n",
    "        return 0.0"
   ]
  },
  {
   "cell_type": "markdown",
   "id": "e9b56dec",
   "metadata": {},
   "source": [
    "# Numerical\n"
   ]
  },
  {
   "cell_type": "markdown",
   "id": "017baa94",
   "metadata": {},
   "source": [
    "## Gradient function\n"
   ]
  },
  {
   "cell_type": "code",
   "execution_count": 60,
   "id": "a030ebd4",
   "metadata": {},
   "outputs": [],
   "source": [
    "@njit(cache=True)\n",
    "def loss_function_component_gradient_numerical(\n",
    "    params: np.ndarray,\n",
    "    t: np.ndarray,\n",
    "    coupon: float,\n",
    "    bid: float,\n",
    "    ask: float,\n",
    "    element: int,\n",
    "    tolerance: float = 1e-6,\n",
    ") -> float:\n",
    "    \"\"\"Calculate gradient of bond valuation\"\"\"\n",
    "    lj = loss_function_component(params, t, coupon, bid, ask)\n",
    "    new_params = params.copy()\n",
    "    new_params[element] += tolerance\n",
    "    lj_new = loss_function_component(new_params, t, coupon, bid, ask)\n",
    "    return (lj_new - lj) / tolerance"
   ]
  },
  {
   "cell_type": "markdown",
   "id": "ed5c1805",
   "metadata": {},
   "source": [
    "## Hessian function\n"
   ]
  },
  {
   "cell_type": "code",
   "execution_count": 61,
   "id": "a1324b7a",
   "metadata": {},
   "outputs": [],
   "source": [
    "@njit(cache=True)\n",
    "def loss_function_component_hessian_numerical(\n",
    "    params: np.ndarray,\n",
    "    t: np.ndarray,\n",
    "    coupon: float,\n",
    "    bid: float,\n",
    "    ask: float,\n",
    "    elements: List[int],\n",
    "    tolerance: float = 1e-6,\n",
    ") -> float:\n",
    "    \"\"\"Calculate hessian of loss component\"\"\"\n",
    "    new_elements = elements.copy()\n",
    "    elements = sorted(elements)\n",
    "    ljgrad = loss_function_component_gradient_numerical(\n",
    "        params, t, coupon, bid, ask, elements[0], tolerance\n",
    "    )\n",
    "    new_params = params.copy()\n",
    "    new_params[elements[1]] += tolerance\n",
    "    ljgrad_new = loss_function_component_gradient_numerical(\n",
    "        new_params, t, coupon, bid, ask, elements[1], tolerance\n",
    "    )\n",
    "    return (ljgrad_new - ljgrad) / tolerance"
   ]
  },
  {
   "cell_type": "markdown",
   "id": "ad90996f",
   "metadata": {},
   "source": [
    "# Optimizing function\n"
   ]
  },
  {
   "cell_type": "code",
   "execution_count": 62,
   "id": "b73a8b0c",
   "metadata": {},
   "outputs": [],
   "source": [
    "def target(params: np.ndarray) -> float:\n",
    "    \"\"\"Target function to be minimized\"\"\"\n",
    "    return np.sum(\n",
    "        [\n",
    "            loss_function_component(\n",
    "                params,\n",
    "                coupon_date_generate(row[\"maturity\"]),\n",
    "                row[\"couponPercent\"],\n",
    "                row[\"priceBid\"],\n",
    "                row[\"priceAsk\"],\n",
    "            )\n",
    "            for _, row in bonds.iterrows()\n",
    "        ]\n",
    "    )"
   ]
  },
  {
   "cell_type": "markdown",
   "id": "d7e641e1",
   "metadata": {},
   "source": [
    "## Library method for components\n"
   ]
  },
  {
   "cell_type": "code",
   "execution_count": 63,
   "id": "fa27e3fa",
   "metadata": {},
   "outputs": [],
   "source": [
    "jac_library = grad(target)\n",
    "hess_library = jacobian(grad(target))"
   ]
  },
  {
   "cell_type": "markdown",
   "id": "c35e4f3b",
   "metadata": {},
   "source": [
    "## Analytical method for components\n"
   ]
  },
  {
   "cell_type": "code",
   "execution_count": 64,
   "id": "8029917f",
   "metadata": {},
   "outputs": [],
   "source": [
    "def jac_analytical(params: np.ndarray) -> np.ndarray:\n",
    "    \"\"\"Calculate jacobian using analytical method\"\"\"\n",
    "    return np.array(\n",
    "        [\n",
    "            np.sum(\n",
    "                [\n",
    "                    loss_function_component_gradient_analytical(\n",
    "                        params,\n",
    "                        coupon_date_generate(row[\"maturity\"]),\n",
    "                        row[\"couponPercent\"],\n",
    "                        row[\"priceBid\"],\n",
    "                        row[\"priceAsk\"],\n",
    "                        element,\n",
    "                    )\n",
    "                    for _, row in bonds.iterrows()\n",
    "                ]\n",
    "            )\n",
    "            for element in range(len(params))\n",
    "        ]\n",
    "    )\n",
    "\n",
    "\n",
    "def hess_analytical(params: np.ndarray) -> np.ndarray:\n",
    "    \"\"\"Calculate hessian using analytical method\"\"\"\n",
    "    return np.array(\n",
    "        [\n",
    "            np.sum(\n",
    "                [\n",
    "                    loss_function_component_hessian_analytical(\n",
    "                        params,\n",
    "                        coupon_date_generate(row[\"maturity\"]),\n",
    "                        row[\"couponPercent\"],\n",
    "                        row[\"priceBid\"],\n",
    "                        row[\"priceAsk\"],\n",
    "                        [element, element2],\n",
    "                    )\n",
    "                    for _, row in bonds.iterrows()\n",
    "                ]\n",
    "            )\n",
    "            for element in range(len(params))\n",
    "            for element2 in range(len(params))\n",
    "        ]\n",
    "    ).reshape(len(params), len(params))"
   ]
  },
  {
   "cell_type": "markdown",
   "id": "bda21576",
   "metadata": {},
   "source": [
    "## Numerical method for components\n"
   ]
  },
  {
   "cell_type": "code",
   "execution_count": 65,
   "id": "9645ace5",
   "metadata": {},
   "outputs": [],
   "source": [
    "def jac_numerical(params: np.ndarray, tolerance: float = 1e-6) -> np.ndarray:\n",
    "    \"\"\"Calculate jacobian using numerical method\"\"\"\n",
    "    return np.array(\n",
    "        [\n",
    "            np.sum(\n",
    "                [\n",
    "                    loss_function_component_gradient_numerical(\n",
    "                        params,\n",
    "                        coupon_date_generate(row[\"maturity\"]),\n",
    "                        row[\"couponPercent\"],\n",
    "                        row[\"priceBid\"],\n",
    "                        row[\"priceAsk\"],\n",
    "                        element,\n",
    "                        tolerance=tolerance,\n",
    "                    )\n",
    "                    for _, row in bonds.iterrows()\n",
    "                ]\n",
    "            )\n",
    "            for element in range(len(params))\n",
    "        ]\n",
    "    )\n",
    "\n",
    "\n",
    "def hess_numerical(params: np.ndarray, tolerance: float = 1e-6) -> np.ndarray:\n",
    "    \"\"\"Calculate hessian using numerical method\"\"\"\n",
    "    return np.array(\n",
    "        [\n",
    "            np.sum(\n",
    "                [\n",
    "                    loss_function_component_hessian_numerical(\n",
    "                        params,\n",
    "                        coupon_date_generate(row[\"maturity\"]),\n",
    "                        row[\"couponPercent\"],\n",
    "                        row[\"priceBid\"],\n",
    "                        row[\"priceAsk\"],\n",
    "                        [element, element2],\n",
    "                        tolerance=tolerance,\n",
    "                    )\n",
    "                    for _, row in bonds.iterrows()\n",
    "                ]\n",
    "            )\n",
    "            for element in range(len(params))\n",
    "            for element2 in range(len(params))\n",
    "        ]\n",
    "    ).reshape(len(params), len(params))"
   ]
  },
  {
   "cell_type": "markdown",
   "id": "83cab3ef",
   "metadata": {},
   "source": [
    "# Test"
   ]
  }
 ],
 "metadata": {
  "kernelspec": {
   "display_name": "venv",
   "language": "python",
   "name": "python3"
  },
  "language_info": {
   "codemirror_mode": {
    "name": "ipython",
    "version": 3
   },
   "file_extension": ".py",
   "mimetype": "text/x-python",
   "name": "python",
   "nbconvert_exporter": "python",
   "pygments_lexer": "ipython3",
   "version": "3.13.3"
  }
 },
 "nbformat": 4,
 "nbformat_minor": 5
}
